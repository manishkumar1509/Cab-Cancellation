{
 "cells": [
  {
   "cell_type": "markdown",
   "metadata": {},
   "source": [
    "# Importing all the libraries"
   ]
  },
  {
   "cell_type": "code",
   "execution_count": 1,
   "metadata": {},
   "outputs": [],
   "source": [
    "import pandas as pd\n",
    "import numpy as np\n",
    "import matplotlib.pyplot as plt\n",
    "import seaborn as sb\n",
    "#Essential imports\n",
    "#Pandas library helps to perform various functions on dataframe.\n",
    "import pandas as pd\n",
    "#Imported to handle dates and time.\n",
    "import datetime\n",
    "#Numpy Provides a fast numerical array structure and helper functions.\n",
    "import numpy as np\n",
    "#Will be used for Sampling the dataset.\n",
    "#from sklearn.cross_validation import StratifiedShuffleSplit\n",
    "#Libraries used for graphs and plots\n",
    "%matplotlib inline\n",
    "import matplotlib.pyplot as plt\n",
    "import pylab as pl\n",
    "#Imports to implement various Algorithms.\n",
    "from sklearn.linear_model import LogisticRegression\n",
    "from sklearn.neighbors import KNeighborsClassifier\n",
    "from sklearn import metrics\n",
    "from sklearn import svm\n",
    "from sklearn.feature_selection import RFECV\n",
    "#from sklearn.cross_validation import StratifiedKFold\n",
    "#from sklearn.cross_validation import train_test_split\n",
    "#Classifier evaluation tools\n",
    "from sklearn.metrics import roc_auc_score\n",
    "from sklearn.metrics import confusion_matrix\n",
    "import itertools\n",
    "%matplotlib inline"
   ]
  },
  {
   "cell_type": "code",
   "execution_count": 2,
   "metadata": {},
   "outputs": [
    {
     "data": {
      "text/html": [
       "<div>\n",
       "<style scoped>\n",
       "    .dataframe tbody tr th:only-of-type {\n",
       "        vertical-align: middle;\n",
       "    }\n",
       "\n",
       "    .dataframe tbody tr th {\n",
       "        vertical-align: top;\n",
       "    }\n",
       "\n",
       "    .dataframe thead th {\n",
       "        text-align: right;\n",
       "    }\n",
       "</style>\n",
       "<table border=\"1\" class=\"dataframe\">\n",
       "  <thead>\n",
       "    <tr style=\"text-align: right;\">\n",
       "      <th></th>\n",
       "      <th>id</th>\n",
       "      <th>user_id</th>\n",
       "      <th>vehicle_model_id</th>\n",
       "      <th>package_id</th>\n",
       "      <th>travel_type_id</th>\n",
       "      <th>from_area_id</th>\n",
       "      <th>to_area_id</th>\n",
       "      <th>from_city_id</th>\n",
       "      <th>to_city_id</th>\n",
       "      <th>from_date</th>\n",
       "      <th>to_date</th>\n",
       "      <th>online_booking</th>\n",
       "      <th>mobile_site_booking</th>\n",
       "      <th>booking_created</th>\n",
       "      <th>from_lat</th>\n",
       "      <th>from_long</th>\n",
       "      <th>to_lat</th>\n",
       "      <th>to_long</th>\n",
       "      <th>Car_Cancellation</th>\n",
       "      <th>Cost_of_error</th>\n",
       "    </tr>\n",
       "  </thead>\n",
       "  <tbody>\n",
       "    <tr>\n",
       "      <th>0</th>\n",
       "      <td>132512</td>\n",
       "      <td>22177</td>\n",
       "      <td>28</td>\n",
       "      <td>NaN</td>\n",
       "      <td>2</td>\n",
       "      <td>83.0</td>\n",
       "      <td>448.0</td>\n",
       "      <td>NaN</td>\n",
       "      <td>NaN</td>\n",
       "      <td>1/1/2013 2:00</td>\n",
       "      <td>NaN</td>\n",
       "      <td>0</td>\n",
       "      <td>0</td>\n",
       "      <td>1/1/2013 1:39</td>\n",
       "      <td>12.924150</td>\n",
       "      <td>77.672290</td>\n",
       "      <td>12.927320</td>\n",
       "      <td>77.635750</td>\n",
       "      <td>0</td>\n",
       "      <td>1.0</td>\n",
       "    </tr>\n",
       "    <tr>\n",
       "      <th>1</th>\n",
       "      <td>132513</td>\n",
       "      <td>21413</td>\n",
       "      <td>12</td>\n",
       "      <td>NaN</td>\n",
       "      <td>2</td>\n",
       "      <td>1010.0</td>\n",
       "      <td>540.0</td>\n",
       "      <td>NaN</td>\n",
       "      <td>NaN</td>\n",
       "      <td>1/1/2013 9:00</td>\n",
       "      <td>NaN</td>\n",
       "      <td>0</td>\n",
       "      <td>0</td>\n",
       "      <td>1/1/2013 2:25</td>\n",
       "      <td>12.966910</td>\n",
       "      <td>77.749350</td>\n",
       "      <td>12.927680</td>\n",
       "      <td>77.626640</td>\n",
       "      <td>0</td>\n",
       "      <td>1.0</td>\n",
       "    </tr>\n",
       "    <tr>\n",
       "      <th>2</th>\n",
       "      <td>132514</td>\n",
       "      <td>22178</td>\n",
       "      <td>12</td>\n",
       "      <td>NaN</td>\n",
       "      <td>2</td>\n",
       "      <td>1301.0</td>\n",
       "      <td>1034.0</td>\n",
       "      <td>NaN</td>\n",
       "      <td>NaN</td>\n",
       "      <td>1/1/2013 3:30</td>\n",
       "      <td>NaN</td>\n",
       "      <td>0</td>\n",
       "      <td>0</td>\n",
       "      <td>1/1/2013 3:08</td>\n",
       "      <td>12.937222</td>\n",
       "      <td>77.626915</td>\n",
       "      <td>13.047926</td>\n",
       "      <td>77.597766</td>\n",
       "      <td>0</td>\n",
       "      <td>1.0</td>\n",
       "    </tr>\n",
       "    <tr>\n",
       "      <th>3</th>\n",
       "      <td>132515</td>\n",
       "      <td>13034</td>\n",
       "      <td>12</td>\n",
       "      <td>NaN</td>\n",
       "      <td>2</td>\n",
       "      <td>768.0</td>\n",
       "      <td>398.0</td>\n",
       "      <td>NaN</td>\n",
       "      <td>NaN</td>\n",
       "      <td>1/1/2013 5:45</td>\n",
       "      <td>NaN</td>\n",
       "      <td>0</td>\n",
       "      <td>0</td>\n",
       "      <td>1/1/2013 4:39</td>\n",
       "      <td>12.989990</td>\n",
       "      <td>77.553320</td>\n",
       "      <td>12.971430</td>\n",
       "      <td>77.639140</td>\n",
       "      <td>0</td>\n",
       "      <td>1.0</td>\n",
       "    </tr>\n",
       "    <tr>\n",
       "      <th>4</th>\n",
       "      <td>132517</td>\n",
       "      <td>22180</td>\n",
       "      <td>12</td>\n",
       "      <td>NaN</td>\n",
       "      <td>2</td>\n",
       "      <td>1365.0</td>\n",
       "      <td>849.0</td>\n",
       "      <td>NaN</td>\n",
       "      <td>NaN</td>\n",
       "      <td>1/1/2013 9:00</td>\n",
       "      <td>NaN</td>\n",
       "      <td>0</td>\n",
       "      <td>0</td>\n",
       "      <td>1/1/2013 7:53</td>\n",
       "      <td>12.845653</td>\n",
       "      <td>77.677925</td>\n",
       "      <td>12.954340</td>\n",
       "      <td>77.600720</td>\n",
       "      <td>0</td>\n",
       "      <td>1.0</td>\n",
       "    </tr>\n",
       "  </tbody>\n",
       "</table>\n",
       "</div>"
      ],
      "text/plain": [
       "       id  user_id  vehicle_model_id  package_id  travel_type_id  \\\n",
       "0  132512    22177                28         NaN               2   \n",
       "1  132513    21413                12         NaN               2   \n",
       "2  132514    22178                12         NaN               2   \n",
       "3  132515    13034                12         NaN               2   \n",
       "4  132517    22180                12         NaN               2   \n",
       "\n",
       "   from_area_id  to_area_id  from_city_id  to_city_id      from_date  to_date  \\\n",
       "0          83.0       448.0           NaN         NaN  1/1/2013 2:00      NaN   \n",
       "1        1010.0       540.0           NaN         NaN  1/1/2013 9:00      NaN   \n",
       "2        1301.0      1034.0           NaN         NaN  1/1/2013 3:30      NaN   \n",
       "3         768.0       398.0           NaN         NaN  1/1/2013 5:45      NaN   \n",
       "4        1365.0       849.0           NaN         NaN  1/1/2013 9:00      NaN   \n",
       "\n",
       "   online_booking  mobile_site_booking booking_created   from_lat  from_long  \\\n",
       "0               0                    0   1/1/2013 1:39  12.924150  77.672290   \n",
       "1               0                    0   1/1/2013 2:25  12.966910  77.749350   \n",
       "2               0                    0   1/1/2013 3:08  12.937222  77.626915   \n",
       "3               0                    0   1/1/2013 4:39  12.989990  77.553320   \n",
       "4               0                    0   1/1/2013 7:53  12.845653  77.677925   \n",
       "\n",
       "      to_lat    to_long  Car_Cancellation  Cost_of_error  \n",
       "0  12.927320  77.635750                 0            1.0  \n",
       "1  12.927680  77.626640                 0            1.0  \n",
       "2  13.047926  77.597766                 0            1.0  \n",
       "3  12.971430  77.639140                 0            1.0  \n",
       "4  12.954340  77.600720                 0            1.0  "
      ]
     },
     "execution_count": 2,
     "metadata": {},
     "output_type": "execute_result"
    }
   ],
   "source": [
    "df=pd.read_csv(r\"C:\\Users\\VIK\\Desktop\\Kaggle Cab\\Kaggle_YourCabs_training.csv\")\n",
    "df.head(5)"
   ]
  },
  {
   "cell_type": "markdown",
   "metadata": {},
   "source": [
    "# Data Pre-processing"
   ]
  },
  {
   "cell_type": "code",
   "execution_count": 3,
   "metadata": {
    "scrolled": true
   },
   "outputs": [
    {
     "data": {
      "text/html": [
       "<div>\n",
       "<style scoped>\n",
       "    .dataframe tbody tr th:only-of-type {\n",
       "        vertical-align: middle;\n",
       "    }\n",
       "\n",
       "    .dataframe tbody tr th {\n",
       "        vertical-align: top;\n",
       "    }\n",
       "\n",
       "    .dataframe thead th {\n",
       "        text-align: right;\n",
       "    }\n",
       "</style>\n",
       "<table border=\"1\" class=\"dataframe\">\n",
       "  <thead>\n",
       "    <tr style=\"text-align: right;\">\n",
       "      <th></th>\n",
       "      <th>id</th>\n",
       "      <th>user_id</th>\n",
       "      <th>vehicle_model_id</th>\n",
       "      <th>package_id</th>\n",
       "      <th>travel_type_id</th>\n",
       "      <th>from_area_id</th>\n",
       "      <th>to_area_id</th>\n",
       "      <th>from_city_id</th>\n",
       "      <th>to_city_id</th>\n",
       "      <th>from_date</th>\n",
       "      <th>to_date</th>\n",
       "      <th>online_booking</th>\n",
       "      <th>mobile_site_booking</th>\n",
       "      <th>booking_created</th>\n",
       "      <th>from_lat</th>\n",
       "      <th>from_long</th>\n",
       "      <th>to_lat</th>\n",
       "      <th>to_long</th>\n",
       "      <th>Car_Cancellation</th>\n",
       "      <th>Cost_of_error</th>\n",
       "    </tr>\n",
       "  </thead>\n",
       "  <tbody>\n",
       "    <tr>\n",
       "      <th>0</th>\n",
       "      <td>132512</td>\n",
       "      <td>22177</td>\n",
       "      <td>28</td>\n",
       "      <td>NaN</td>\n",
       "      <td>2</td>\n",
       "      <td>83.0</td>\n",
       "      <td>448.0</td>\n",
       "      <td>NaN</td>\n",
       "      <td>NaN</td>\n",
       "      <td>2013-01-01 02:00:00</td>\n",
       "      <td>NaT</td>\n",
       "      <td>0</td>\n",
       "      <td>0</td>\n",
       "      <td>2013-01-01 01:39:00</td>\n",
       "      <td>12.924150</td>\n",
       "      <td>77.672290</td>\n",
       "      <td>12.927320</td>\n",
       "      <td>77.635750</td>\n",
       "      <td>0</td>\n",
       "      <td>1.0</td>\n",
       "    </tr>\n",
       "    <tr>\n",
       "      <th>1</th>\n",
       "      <td>132513</td>\n",
       "      <td>21413</td>\n",
       "      <td>12</td>\n",
       "      <td>NaN</td>\n",
       "      <td>2</td>\n",
       "      <td>1010.0</td>\n",
       "      <td>540.0</td>\n",
       "      <td>NaN</td>\n",
       "      <td>NaN</td>\n",
       "      <td>2013-01-01 09:00:00</td>\n",
       "      <td>NaT</td>\n",
       "      <td>0</td>\n",
       "      <td>0</td>\n",
       "      <td>2013-01-01 02:25:00</td>\n",
       "      <td>12.966910</td>\n",
       "      <td>77.749350</td>\n",
       "      <td>12.927680</td>\n",
       "      <td>77.626640</td>\n",
       "      <td>0</td>\n",
       "      <td>1.0</td>\n",
       "    </tr>\n",
       "    <tr>\n",
       "      <th>2</th>\n",
       "      <td>132514</td>\n",
       "      <td>22178</td>\n",
       "      <td>12</td>\n",
       "      <td>NaN</td>\n",
       "      <td>2</td>\n",
       "      <td>1301.0</td>\n",
       "      <td>1034.0</td>\n",
       "      <td>NaN</td>\n",
       "      <td>NaN</td>\n",
       "      <td>2013-01-01 03:30:00</td>\n",
       "      <td>NaT</td>\n",
       "      <td>0</td>\n",
       "      <td>0</td>\n",
       "      <td>2013-01-01 03:08:00</td>\n",
       "      <td>12.937222</td>\n",
       "      <td>77.626915</td>\n",
       "      <td>13.047926</td>\n",
       "      <td>77.597766</td>\n",
       "      <td>0</td>\n",
       "      <td>1.0</td>\n",
       "    </tr>\n",
       "    <tr>\n",
       "      <th>3</th>\n",
       "      <td>132515</td>\n",
       "      <td>13034</td>\n",
       "      <td>12</td>\n",
       "      <td>NaN</td>\n",
       "      <td>2</td>\n",
       "      <td>768.0</td>\n",
       "      <td>398.0</td>\n",
       "      <td>NaN</td>\n",
       "      <td>NaN</td>\n",
       "      <td>2013-01-01 05:45:00</td>\n",
       "      <td>NaT</td>\n",
       "      <td>0</td>\n",
       "      <td>0</td>\n",
       "      <td>2013-01-01 04:39:00</td>\n",
       "      <td>12.989990</td>\n",
       "      <td>77.553320</td>\n",
       "      <td>12.971430</td>\n",
       "      <td>77.639140</td>\n",
       "      <td>0</td>\n",
       "      <td>1.0</td>\n",
       "    </tr>\n",
       "    <tr>\n",
       "      <th>4</th>\n",
       "      <td>132517</td>\n",
       "      <td>22180</td>\n",
       "      <td>12</td>\n",
       "      <td>NaN</td>\n",
       "      <td>2</td>\n",
       "      <td>1365.0</td>\n",
       "      <td>849.0</td>\n",
       "      <td>NaN</td>\n",
       "      <td>NaN</td>\n",
       "      <td>2013-01-01 09:00:00</td>\n",
       "      <td>NaT</td>\n",
       "      <td>0</td>\n",
       "      <td>0</td>\n",
       "      <td>2013-01-01 07:53:00</td>\n",
       "      <td>12.845653</td>\n",
       "      <td>77.677925</td>\n",
       "      <td>12.954340</td>\n",
       "      <td>77.600720</td>\n",
       "      <td>0</td>\n",
       "      <td>1.0</td>\n",
       "    </tr>\n",
       "  </tbody>\n",
       "</table>\n",
       "</div>"
      ],
      "text/plain": [
       "       id  user_id  vehicle_model_id  package_id  travel_type_id  \\\n",
       "0  132512    22177                28         NaN               2   \n",
       "1  132513    21413                12         NaN               2   \n",
       "2  132514    22178                12         NaN               2   \n",
       "3  132515    13034                12         NaN               2   \n",
       "4  132517    22180                12         NaN               2   \n",
       "\n",
       "   from_area_id  to_area_id  from_city_id  to_city_id           from_date  \\\n",
       "0          83.0       448.0           NaN         NaN 2013-01-01 02:00:00   \n",
       "1        1010.0       540.0           NaN         NaN 2013-01-01 09:00:00   \n",
       "2        1301.0      1034.0           NaN         NaN 2013-01-01 03:30:00   \n",
       "3         768.0       398.0           NaN         NaN 2013-01-01 05:45:00   \n",
       "4        1365.0       849.0           NaN         NaN 2013-01-01 09:00:00   \n",
       "\n",
       "  to_date  online_booking  mobile_site_booking     booking_created   from_lat  \\\n",
       "0     NaT               0                    0 2013-01-01 01:39:00  12.924150   \n",
       "1     NaT               0                    0 2013-01-01 02:25:00  12.966910   \n",
       "2     NaT               0                    0 2013-01-01 03:08:00  12.937222   \n",
       "3     NaT               0                    0 2013-01-01 04:39:00  12.989990   \n",
       "4     NaT               0                    0 2013-01-01 07:53:00  12.845653   \n",
       "\n",
       "   from_long     to_lat    to_long  Car_Cancellation  Cost_of_error  \n",
       "0  77.672290  12.927320  77.635750                 0            1.0  \n",
       "1  77.749350  12.927680  77.626640                 0            1.0  \n",
       "2  77.626915  13.047926  77.597766                 0            1.0  \n",
       "3  77.553320  12.971430  77.639140                 0            1.0  \n",
       "4  77.677925  12.954340  77.600720                 0            1.0  "
      ]
     },
     "execution_count": 3,
     "metadata": {},
     "output_type": "execute_result"
    }
   ],
   "source": [
    "# convert from_date column to date-time\n",
    "# Note: when we try to convert NaN to date-time, it gets converted to NaT( Not a timestamp )\n",
    "df['from_date']=pd.to_datetime(df['from_date'])\n",
    "df['to_date']=pd.to_datetime(df['to_date'])\n",
    "df['booking_created']=pd.to_datetime(df['booking_created'])\n",
    "df.head(5)"
   ]
  },
  {
   "cell_type": "code",
   "execution_count": 4,
   "metadata": {},
   "outputs": [
    {
     "data": {
      "text/plain": [
       "0    40299\n",
       "1     3132\n",
       "Name: Car_Cancellation, dtype: int64"
      ]
     },
     "execution_count": 4,
     "metadata": {},
     "output_type": "execute_result"
    }
   ],
   "source": [
    "df.set_index([\"id\"], inplace=True)\n",
    "df.Car_Cancellation.value_counts()"
   ]
  },
  {
   "cell_type": "code",
   "execution_count": 5,
   "metadata": {},
   "outputs": [
    {
     "data": {
      "text/html": [
       "<div>\n",
       "<style scoped>\n",
       "    .dataframe tbody tr th:only-of-type {\n",
       "        vertical-align: middle;\n",
       "    }\n",
       "\n",
       "    .dataframe tbody tr th {\n",
       "        vertical-align: top;\n",
       "    }\n",
       "\n",
       "    .dataframe thead th {\n",
       "        text-align: right;\n",
       "    }\n",
       "</style>\n",
       "<table border=\"1\" class=\"dataframe\">\n",
       "  <thead>\n",
       "    <tr style=\"text-align: right;\">\n",
       "      <th></th>\n",
       "      <th>user_id</th>\n",
       "      <th>vehicle_model_id</th>\n",
       "      <th>package_id</th>\n",
       "      <th>travel_type_id</th>\n",
       "      <th>from_area_id</th>\n",
       "      <th>to_area_id</th>\n",
       "      <th>from_city_id</th>\n",
       "      <th>to_city_id</th>\n",
       "      <th>from_date</th>\n",
       "      <th>to_date</th>\n",
       "      <th>online_booking</th>\n",
       "      <th>mobile_site_booking</th>\n",
       "      <th>booking_created</th>\n",
       "      <th>from_lat</th>\n",
       "      <th>from_long</th>\n",
       "      <th>to_lat</th>\n",
       "      <th>to_long</th>\n",
       "      <th>Car_Cancellation</th>\n",
       "      <th>Cost_of_error</th>\n",
       "    </tr>\n",
       "    <tr>\n",
       "      <th>id</th>\n",
       "      <th></th>\n",
       "      <th></th>\n",
       "      <th></th>\n",
       "      <th></th>\n",
       "      <th></th>\n",
       "      <th></th>\n",
       "      <th></th>\n",
       "      <th></th>\n",
       "      <th></th>\n",
       "      <th></th>\n",
       "      <th></th>\n",
       "      <th></th>\n",
       "      <th></th>\n",
       "      <th></th>\n",
       "      <th></th>\n",
       "      <th></th>\n",
       "      <th></th>\n",
       "      <th></th>\n",
       "      <th></th>\n",
       "    </tr>\n",
       "  </thead>\n",
       "  <tbody>\n",
       "    <tr>\n",
       "      <th>132512</th>\n",
       "      <td>22177</td>\n",
       "      <td>28</td>\n",
       "      <td>NaN</td>\n",
       "      <td>2</td>\n",
       "      <td>83.0</td>\n",
       "      <td>448.0</td>\n",
       "      <td>NaN</td>\n",
       "      <td>NaN</td>\n",
       "      <td>2013-01-01 02:00:00</td>\n",
       "      <td>NaT</td>\n",
       "      <td>0</td>\n",
       "      <td>0</td>\n",
       "      <td>2013-01-01 01:39:00</td>\n",
       "      <td>12.924150</td>\n",
       "      <td>77.672290</td>\n",
       "      <td>12.927320</td>\n",
       "      <td>77.635750</td>\n",
       "      <td>0</td>\n",
       "      <td>1.0</td>\n",
       "    </tr>\n",
       "    <tr>\n",
       "      <th>132513</th>\n",
       "      <td>21413</td>\n",
       "      <td>12</td>\n",
       "      <td>NaN</td>\n",
       "      <td>2</td>\n",
       "      <td>1010.0</td>\n",
       "      <td>540.0</td>\n",
       "      <td>NaN</td>\n",
       "      <td>NaN</td>\n",
       "      <td>2013-01-01 09:00:00</td>\n",
       "      <td>NaT</td>\n",
       "      <td>0</td>\n",
       "      <td>0</td>\n",
       "      <td>2013-01-01 02:25:00</td>\n",
       "      <td>12.966910</td>\n",
       "      <td>77.749350</td>\n",
       "      <td>12.927680</td>\n",
       "      <td>77.626640</td>\n",
       "      <td>0</td>\n",
       "      <td>1.0</td>\n",
       "    </tr>\n",
       "    <tr>\n",
       "      <th>132514</th>\n",
       "      <td>22178</td>\n",
       "      <td>12</td>\n",
       "      <td>NaN</td>\n",
       "      <td>2</td>\n",
       "      <td>1301.0</td>\n",
       "      <td>1034.0</td>\n",
       "      <td>NaN</td>\n",
       "      <td>NaN</td>\n",
       "      <td>2013-01-01 03:30:00</td>\n",
       "      <td>NaT</td>\n",
       "      <td>0</td>\n",
       "      <td>0</td>\n",
       "      <td>2013-01-01 03:08:00</td>\n",
       "      <td>12.937222</td>\n",
       "      <td>77.626915</td>\n",
       "      <td>13.047926</td>\n",
       "      <td>77.597766</td>\n",
       "      <td>0</td>\n",
       "      <td>1.0</td>\n",
       "    </tr>\n",
       "    <tr>\n",
       "      <th>132515</th>\n",
       "      <td>13034</td>\n",
       "      <td>12</td>\n",
       "      <td>NaN</td>\n",
       "      <td>2</td>\n",
       "      <td>768.0</td>\n",
       "      <td>398.0</td>\n",
       "      <td>NaN</td>\n",
       "      <td>NaN</td>\n",
       "      <td>2013-01-01 05:45:00</td>\n",
       "      <td>NaT</td>\n",
       "      <td>0</td>\n",
       "      <td>0</td>\n",
       "      <td>2013-01-01 04:39:00</td>\n",
       "      <td>12.989990</td>\n",
       "      <td>77.553320</td>\n",
       "      <td>12.971430</td>\n",
       "      <td>77.639140</td>\n",
       "      <td>0</td>\n",
       "      <td>1.0</td>\n",
       "    </tr>\n",
       "    <tr>\n",
       "      <th>132517</th>\n",
       "      <td>22180</td>\n",
       "      <td>12</td>\n",
       "      <td>NaN</td>\n",
       "      <td>2</td>\n",
       "      <td>1365.0</td>\n",
       "      <td>849.0</td>\n",
       "      <td>NaN</td>\n",
       "      <td>NaN</td>\n",
       "      <td>2013-01-01 09:00:00</td>\n",
       "      <td>NaT</td>\n",
       "      <td>0</td>\n",
       "      <td>0</td>\n",
       "      <td>2013-01-01 07:53:00</td>\n",
       "      <td>12.845653</td>\n",
       "      <td>77.677925</td>\n",
       "      <td>12.954340</td>\n",
       "      <td>77.600720</td>\n",
       "      <td>0</td>\n",
       "      <td>1.0</td>\n",
       "    </tr>\n",
       "  </tbody>\n",
       "</table>\n",
       "</div>"
      ],
      "text/plain": [
       "        user_id  vehicle_model_id  package_id  travel_type_id  from_area_id  \\\n",
       "id                                                                            \n",
       "132512    22177                28         NaN               2          83.0   \n",
       "132513    21413                12         NaN               2        1010.0   \n",
       "132514    22178                12         NaN               2        1301.0   \n",
       "132515    13034                12         NaN               2         768.0   \n",
       "132517    22180                12         NaN               2        1365.0   \n",
       "\n",
       "        to_area_id  from_city_id  to_city_id           from_date to_date  \\\n",
       "id                                                                         \n",
       "132512       448.0           NaN         NaN 2013-01-01 02:00:00     NaT   \n",
       "132513       540.0           NaN         NaN 2013-01-01 09:00:00     NaT   \n",
       "132514      1034.0           NaN         NaN 2013-01-01 03:30:00     NaT   \n",
       "132515       398.0           NaN         NaN 2013-01-01 05:45:00     NaT   \n",
       "132517       849.0           NaN         NaN 2013-01-01 09:00:00     NaT   \n",
       "\n",
       "        online_booking  mobile_site_booking     booking_created   from_lat  \\\n",
       "id                                                                           \n",
       "132512               0                    0 2013-01-01 01:39:00  12.924150   \n",
       "132513               0                    0 2013-01-01 02:25:00  12.966910   \n",
       "132514               0                    0 2013-01-01 03:08:00  12.937222   \n",
       "132515               0                    0 2013-01-01 04:39:00  12.989990   \n",
       "132517               0                    0 2013-01-01 07:53:00  12.845653   \n",
       "\n",
       "        from_long     to_lat    to_long  Car_Cancellation  Cost_of_error  \n",
       "id                                                                        \n",
       "132512  77.672290  12.927320  77.635750                 0            1.0  \n",
       "132513  77.749350  12.927680  77.626640                 0            1.0  \n",
       "132514  77.626915  13.047926  77.597766                 0            1.0  \n",
       "132515  77.553320  12.971430  77.639140                 0            1.0  \n",
       "132517  77.677925  12.954340  77.600720                 0            1.0  "
      ]
     },
     "execution_count": 5,
     "metadata": {},
     "output_type": "execute_result"
    }
   ],
   "source": [
    "df.head()"
   ]
  },
  {
   "cell_type": "code",
   "execution_count": 6,
   "metadata": {},
   "outputs": [
    {
     "data": {
      "text/plain": [
       "<matplotlib.axes._subplots.AxesSubplot at 0xde52370>"
      ]
     },
     "execution_count": 6,
     "metadata": {},
     "output_type": "execute_result"
    },
    {
     "data": {
      "image/png": "[encoded data removed]",
      "text/plain": [
       "<Figure size 432x288 with 1 Axes>"
      ]
     },
     "metadata": {
      "needs_background": "light"
     },
     "output_type": "display_data"
    }
   ],
   "source": [
    "df.package_id.value_counts()\n",
    "df.package_id.hist()"
   ]
  },
  {
   "cell_type": "code",
   "execution_count": 7,
   "metadata": {},
   "outputs": [
    {
     "data": {
      "image/png": "[encoded data removed]",
      "text/plain": [
       "<Figure size 432x288 with 2 Axes>"
      ]
     },
     "metadata": {
      "needs_background": "light"
     },
     "output_type": "display_data"
    }
   ],
   "source": [
    "df.hist(column=\"package_id\",by=\"Car_Cancellation\");"
   ]
  },
  {
   "cell_type": "code",
   "execution_count": 8,
   "metadata": {},
   "outputs": [
    {
     "data": {
      "text/html": [
       "<div>\n",
       "<style scoped>\n",
       "    .dataframe tbody tr th:only-of-type {\n",
       "        vertical-align: middle;\n",
       "    }\n",
       "\n",
       "    .dataframe tbody tr th {\n",
       "        vertical-align: top;\n",
       "    }\n",
       "\n",
       "    .dataframe thead th {\n",
       "        text-align: right;\n",
       "    }\n",
       "</style>\n",
       "<table border=\"1\" class=\"dataframe\">\n",
       "  <thead>\n",
       "    <tr style=\"text-align: right;\">\n",
       "      <th>Car_Cancellation</th>\n",
       "      <th>0</th>\n",
       "      <th>1</th>\n",
       "    </tr>\n",
       "    <tr>\n",
       "      <th>from_area_id</th>\n",
       "      <th></th>\n",
       "      <th></th>\n",
       "    </tr>\n",
       "  </thead>\n",
       "  <tbody>\n",
       "    <tr>\n",
       "      <th>2.0</th>\n",
       "      <td>27</td>\n",
       "      <td>4</td>\n",
       "    </tr>\n",
       "    <tr>\n",
       "      <th>6.0</th>\n",
       "      <td>7</td>\n",
       "      <td>0</td>\n",
       "    </tr>\n",
       "    <tr>\n",
       "      <th>15.0</th>\n",
       "      <td>6</td>\n",
       "      <td>0</td>\n",
       "    </tr>\n",
       "    <tr>\n",
       "      <th>16.0</th>\n",
       "      <td>5</td>\n",
       "      <td>0</td>\n",
       "    </tr>\n",
       "    <tr>\n",
       "      <th>17.0</th>\n",
       "      <td>2</td>\n",
       "      <td>0</td>\n",
       "    </tr>\n",
       "  </tbody>\n",
       "</table>\n",
       "</div>"
      ],
      "text/plain": [
       "Car_Cancellation   0  1\n",
       "from_area_id           \n",
       "2.0               27  4\n",
       "6.0                7  0\n",
       "15.0               6  0\n",
       "16.0               5  0\n",
       "17.0               2  0"
      ]
     },
     "execution_count": 8,
     "metadata": {},
     "output_type": "execute_result"
    }
   ],
   "source": [
    "#Realtion between area_id and Car_cancellation\n",
    "d=pd.crosstab(df.from_area_id,df.Car_Cancellation) \n",
    "d.head()"
   ]
  },
  {
   "cell_type": "code",
   "execution_count": 9,
   "metadata": {},
   "outputs": [],
   "source": [
    "d['percent_cancelled'] = (d[1] / (d[1] + d[0])) * 100."
   ]
  },
  {
   "cell_type": "code",
   "execution_count": 10,
   "metadata": {},
   "outputs": [
    {
     "data": {
      "text/plain": [
       "from_area_id\n",
       "138.0     100.000000\n",
       "130.0      80.000000\n",
       "1148.0     66.666667\n",
       "1174.0     66.666667\n",
       "630.0      66.666667\n",
       "176.0      52.830189\n",
       "1381.0     50.000000\n",
       "1100.0     50.000000\n",
       "1385.0     50.000000\n",
       "1160.0     50.000000\n",
       "1276.0     45.454545\n",
       "211.0      44.444444\n",
       "987.0      40.000000\n",
       "1372.0     40.000000\n",
       "356.0      40.000000\n",
       "626.0      34.375000\n",
       "177.0      33.333333\n",
       "34.0       33.333333\n",
       "1081.0     33.333333\n",
       "980.0      33.333333\n",
       "Name: percent_cancelled, dtype: float64"
      ]
     },
     "execution_count": 10,
     "metadata": {},
     "output_type": "execute_result"
    }
   ],
   "source": [
    "d.percent_cancelled.sort_values(ascending=False).iloc[:20]"
   ]
  },
  {
   "cell_type": "code",
   "execution_count": 11,
   "metadata": {},
   "outputs": [
    {
     "data": {
      "text/html": [
       "<div>\n",
       "<style scoped>\n",
       "    .dataframe tbody tr th:only-of-type {\n",
       "        vertical-align: middle;\n",
       "    }\n",
       "\n",
       "    .dataframe tbody tr th {\n",
       "        vertical-align: top;\n",
       "    }\n",
       "\n",
       "    .dataframe thead th {\n",
       "        text-align: right;\n",
       "    }\n",
       "</style>\n",
       "<table border=\"1\" class=\"dataframe\">\n",
       "  <thead>\n",
       "    <tr style=\"text-align: right;\">\n",
       "      <th>Car_Cancellation</th>\n",
       "      <th>0</th>\n",
       "      <th>1</th>\n",
       "      <th>percent_cancelled</th>\n",
       "    </tr>\n",
       "    <tr>\n",
       "      <th>from_area_id</th>\n",
       "      <th></th>\n",
       "      <th></th>\n",
       "      <th></th>\n",
       "    </tr>\n",
       "  </thead>\n",
       "  <tbody>\n",
       "    <tr>\n",
       "      <th>2.0</th>\n",
       "      <td>27</td>\n",
       "      <td>4</td>\n",
       "      <td>12.903226</td>\n",
       "    </tr>\n",
       "    <tr>\n",
       "      <th>6.0</th>\n",
       "      <td>7</td>\n",
       "      <td>0</td>\n",
       "      <td>0.000000</td>\n",
       "    </tr>\n",
       "    <tr>\n",
       "      <th>15.0</th>\n",
       "      <td>6</td>\n",
       "      <td>0</td>\n",
       "      <td>0.000000</td>\n",
       "    </tr>\n",
       "    <tr>\n",
       "      <th>16.0</th>\n",
       "      <td>5</td>\n",
       "      <td>0</td>\n",
       "      <td>0.000000</td>\n",
       "    </tr>\n",
       "    <tr>\n",
       "      <th>17.0</th>\n",
       "      <td>2</td>\n",
       "      <td>0</td>\n",
       "      <td>0.000000</td>\n",
       "    </tr>\n",
       "  </tbody>\n",
       "</table>\n",
       "</div>"
      ],
      "text/plain": [
       "Car_Cancellation   0  1  percent_cancelled\n",
       "from_area_id                              \n",
       "2.0               27  4          12.903226\n",
       "6.0                7  0           0.000000\n",
       "15.0               6  0           0.000000\n",
       "16.0               5  0           0.000000\n",
       "17.0               2  0           0.000000"
      ]
     },
     "execution_count": 11,
     "metadata": {},
     "output_type": "execute_result"
    }
   ],
   "source": [
    "d.head()"
   ]
  },
  {
   "cell_type": "code",
   "execution_count": 12,
   "metadata": {},
   "outputs": [],
   "source": [
    "to = df.groupby(['to_area_id', 'Car_Cancellation']).size().unstack(1)"
   ]
  },
  {
   "cell_type": "code",
   "execution_count": 13,
   "metadata": {},
   "outputs": [
    {
     "data": {
      "text/html": [
       "<div>\n",
       "<style scoped>\n",
       "    .dataframe tbody tr th:only-of-type {\n",
       "        vertical-align: middle;\n",
       "    }\n",
       "\n",
       "    .dataframe tbody tr th {\n",
       "        vertical-align: top;\n",
       "    }\n",
       "\n",
       "    .dataframe thead th {\n",
       "        text-align: right;\n",
       "    }\n",
       "</style>\n",
       "<table border=\"1\" class=\"dataframe\">\n",
       "  <thead>\n",
       "    <tr style=\"text-align: right;\">\n",
       "      <th>Car_Cancellation</th>\n",
       "      <th>0</th>\n",
       "      <th>1</th>\n",
       "    </tr>\n",
       "    <tr>\n",
       "      <th>to_area_id</th>\n",
       "      <th></th>\n",
       "      <th></th>\n",
       "    </tr>\n",
       "  </thead>\n",
       "  <tbody>\n",
       "    <tr>\n",
       "      <th>2.0</th>\n",
       "      <td>4.0</td>\n",
       "      <td>NaN</td>\n",
       "    </tr>\n",
       "    <tr>\n",
       "      <th>6.0</th>\n",
       "      <td>2.0</td>\n",
       "      <td>NaN</td>\n",
       "    </tr>\n",
       "    <tr>\n",
       "      <th>15.0</th>\n",
       "      <td>3.0</td>\n",
       "      <td>2.0</td>\n",
       "    </tr>\n",
       "    <tr>\n",
       "      <th>16.0</th>\n",
       "      <td>3.0</td>\n",
       "      <td>1.0</td>\n",
       "    </tr>\n",
       "    <tr>\n",
       "      <th>17.0</th>\n",
       "      <td>1.0</td>\n",
       "      <td>NaN</td>\n",
       "    </tr>\n",
       "  </tbody>\n",
       "</table>\n",
       "</div>"
      ],
      "text/plain": [
       "Car_Cancellation    0    1\n",
       "to_area_id                \n",
       "2.0               4.0  NaN\n",
       "6.0               2.0  NaN\n",
       "15.0              3.0  2.0\n",
       "16.0              3.0  1.0\n",
       "17.0              1.0  NaN"
      ]
     },
     "execution_count": 13,
     "metadata": {},
     "output_type": "execute_result"
    }
   ],
   "source": [
    "to.head()"
   ]
  },
  {
   "cell_type": "code",
   "execution_count": 14,
   "metadata": {},
   "outputs": [],
   "source": [
    "to['percent_cancelled'] = (to[1] / (to[1] + to[0])) * 100."
   ]
  },
  {
   "cell_type": "code",
   "execution_count": 15,
   "metadata": {},
   "outputs": [
    {
     "data": {
      "text/plain": [
       "to_area_id\n",
       "1247.0    75.000000\n",
       "677.0     66.666667\n",
       "355.0     66.666667\n",
       "1218.0    60.000000\n",
       "845.0     60.000000\n",
       "1310.0    50.000000\n",
       "1311.0    50.000000\n",
       "1387.0    50.000000\n",
       "1197.0    50.000000\n",
       "1225.0    50.000000\n",
       "1193.0    50.000000\n",
       "1235.0    50.000000\n",
       "598.0     50.000000\n",
       "1357.0    50.000000\n",
       "1336.0    50.000000\n",
       "118.0     50.000000\n",
       "122.0     41.463415\n",
       "626.0     40.000000\n",
       "520.0     40.000000\n",
       "525.0     40.000000\n",
       "Name: percent_cancelled, dtype: float64"
      ]
     },
     "execution_count": 15,
     "metadata": {},
     "output_type": "execute_result"
    }
   ],
   "source": [
    "to.percent_cancelled.sort_values(ascending=False).iloc[:20]"
   ]
  },
  {
   "cell_type": "code",
   "execution_count": 16,
   "metadata": {},
   "outputs": [
    {
     "data": {
      "text/html": [
       "<div>\n",
       "<style scoped>\n",
       "    .dataframe tbody tr th:only-of-type {\n",
       "        vertical-align: middle;\n",
       "    }\n",
       "\n",
       "    .dataframe tbody tr th {\n",
       "        vertical-align: top;\n",
       "    }\n",
       "\n",
       "    .dataframe thead th {\n",
       "        text-align: right;\n",
       "    }\n",
       "</style>\n",
       "<table border=\"1\" class=\"dataframe\">\n",
       "  <thead>\n",
       "    <tr style=\"text-align: right;\">\n",
       "      <th>Car_Cancellation</th>\n",
       "      <th>0</th>\n",
       "      <th>1</th>\n",
       "      <th>percent_cancelled</th>\n",
       "    </tr>\n",
       "    <tr>\n",
       "      <th>to_area_id</th>\n",
       "      <th></th>\n",
       "      <th></th>\n",
       "      <th></th>\n",
       "    </tr>\n",
       "  </thead>\n",
       "  <tbody>\n",
       "    <tr>\n",
       "      <th>2.0</th>\n",
       "      <td>4.0</td>\n",
       "      <td>NaN</td>\n",
       "      <td>NaN</td>\n",
       "    </tr>\n",
       "    <tr>\n",
       "      <th>6.0</th>\n",
       "      <td>2.0</td>\n",
       "      <td>NaN</td>\n",
       "      <td>NaN</td>\n",
       "    </tr>\n",
       "    <tr>\n",
       "      <th>15.0</th>\n",
       "      <td>3.0</td>\n",
       "      <td>2.0</td>\n",
       "      <td>40.0</td>\n",
       "    </tr>\n",
       "    <tr>\n",
       "      <th>16.0</th>\n",
       "      <td>3.0</td>\n",
       "      <td>1.0</td>\n",
       "      <td>25.0</td>\n",
       "    </tr>\n",
       "    <tr>\n",
       "      <th>17.0</th>\n",
       "      <td>1.0</td>\n",
       "      <td>NaN</td>\n",
       "      <td>NaN</td>\n",
       "    </tr>\n",
       "  </tbody>\n",
       "</table>\n",
       "</div>"
      ],
      "text/plain": [
       "Car_Cancellation    0    1  percent_cancelled\n",
       "to_area_id                                   \n",
       "2.0               4.0  NaN                NaN\n",
       "6.0               2.0  NaN                NaN\n",
       "15.0              3.0  2.0               40.0\n",
       "16.0              3.0  1.0               25.0\n",
       "17.0              1.0  NaN                NaN"
      ]
     },
     "execution_count": 16,
     "metadata": {},
     "output_type": "execute_result"
    }
   ],
   "source": [
    "to.head()"
   ]
  },
  {
   "cell_type": "code",
   "execution_count": 17,
   "metadata": {},
   "outputs": [
    {
     "data": {
      "text/html": [
       "<div>\n",
       "<style scoped>\n",
       "    .dataframe tbody tr th:only-of-type {\n",
       "        vertical-align: middle;\n",
       "    }\n",
       "\n",
       "    .dataframe tbody tr th {\n",
       "        vertical-align: top;\n",
       "    }\n",
       "\n",
       "    .dataframe thead th {\n",
       "        text-align: right;\n",
       "    }\n",
       "</style>\n",
       "<table border=\"1\" class=\"dataframe\">\n",
       "  <thead>\n",
       "    <tr style=\"text-align: right;\">\n",
       "      <th></th>\n",
       "      <th>Car_Cancellation</th>\n",
       "      <th>0</th>\n",
       "      <th>1</th>\n",
       "    </tr>\n",
       "    <tr>\n",
       "      <th>from_area_id</th>\n",
       "      <th>to_area_id</th>\n",
       "      <th></th>\n",
       "      <th></th>\n",
       "    </tr>\n",
       "  </thead>\n",
       "  <tbody>\n",
       "    <tr>\n",
       "      <th rowspan=\"5\" valign=\"top\">2.0</th>\n",
       "      <th>222.0</th>\n",
       "      <td>1.0</td>\n",
       "      <td>NaN</td>\n",
       "    </tr>\n",
       "    <tr>\n",
       "      <th>393.0</th>\n",
       "      <td>12.0</td>\n",
       "      <td>NaN</td>\n",
       "    </tr>\n",
       "    <tr>\n",
       "      <th>452.0</th>\n",
       "      <td>1.0</td>\n",
       "      <td>NaN</td>\n",
       "    </tr>\n",
       "    <tr>\n",
       "      <th>455.0</th>\n",
       "      <td>NaN</td>\n",
       "      <td>1.0</td>\n",
       "    </tr>\n",
       "    <tr>\n",
       "      <th>572.0</th>\n",
       "      <td>NaN</td>\n",
       "      <td>1.0</td>\n",
       "    </tr>\n",
       "  </tbody>\n",
       "</table>\n",
       "</div>"
      ],
      "text/plain": [
       "Car_Cancellation            0    1\n",
       "from_area_id to_area_id           \n",
       "2.0          222.0        1.0  NaN\n",
       "             393.0       12.0  NaN\n",
       "             452.0        1.0  NaN\n",
       "             455.0        NaN  1.0\n",
       "             572.0        NaN  1.0"
      ]
     },
     "execution_count": 17,
     "metadata": {},
     "output_type": "execute_result"
    }
   ],
   "source": [
    "\n",
    "from_to = df.groupby(['from_area_id', 'to_area_id', 'Car_Cancellation']).size()\n",
    "f_t = from_to.unstack(2)\n",
    "f_t.head()"
   ]
  },
  {
   "cell_type": "code",
   "execution_count": 18,
   "metadata": {},
   "outputs": [
    {
     "data": {
      "text/plain": [
       "from_area_id  to_area_id\n",
       "626.0         122.0         90.909091\n",
       "1349.0        1052.0        83.333333\n",
       "1330.0        176.0         80.000000\n",
       "1052.0        1349.0        78.571429\n",
       "625.0         452.0         75.000000\n",
       "1296.0        793.0         75.000000\n",
       "1365.0        293.0         75.000000\n",
       "1285.0        61.0          70.588235\n",
       "122.0         626.0         70.000000\n",
       "176.0         136.0         66.666667\n",
       "1068.0        352.0         66.666667\n",
       "264.0         585.0         66.666667\n",
       "1384.0        160.0         66.666667\n",
       "839.0         585.0         66.666667\n",
       "571.0         396.0         66.666667\n",
       "83.0          176.0         66.666667\n",
       "1095.0        25.0          66.666667\n",
       "363.0         1068.0        66.666667\n",
       "542.0         1237.0        66.666667\n",
       "541.0         83.0          66.666667\n",
       "Name: percent_cancelled, dtype: float64"
      ]
     },
     "execution_count": 18,
     "metadata": {},
     "output_type": "execute_result"
    }
   ],
   "source": [
    "f_t['percent_cancelled'] = (f_t[1] / (f_t[0] + f_t[1])) * 100.\n",
    "f_t.percent_cancelled.sort_values(ascending=False).iloc[:20]"
   ]
  },
  {
   "cell_type": "code",
   "execution_count": 19,
   "metadata": {},
   "outputs": [
    {
     "data": {
      "text/html": [
       "<div>\n",
       "<style scoped>\n",
       "    .dataframe tbody tr th:only-of-type {\n",
       "        vertical-align: middle;\n",
       "    }\n",
       "\n",
       "    .dataframe tbody tr th {\n",
       "        vertical-align: top;\n",
       "    }\n",
       "\n",
       "    .dataframe thead th {\n",
       "        text-align: right;\n",
       "    }\n",
       "</style>\n",
       "<table border=\"1\" class=\"dataframe\">\n",
       "  <thead>\n",
       "    <tr style=\"text-align: right;\">\n",
       "      <th></th>\n",
       "      <th>Car_Cancellation</th>\n",
       "      <th>0</th>\n",
       "      <th>1</th>\n",
       "      <th>percent_cancelled</th>\n",
       "    </tr>\n",
       "    <tr>\n",
       "      <th>from_area_id</th>\n",
       "      <th>to_area_id</th>\n",
       "      <th></th>\n",
       "      <th></th>\n",
       "      <th></th>\n",
       "    </tr>\n",
       "  </thead>\n",
       "  <tbody>\n",
       "    <tr>\n",
       "      <th rowspan=\"5\" valign=\"top\">2.0</th>\n",
       "      <th>222.0</th>\n",
       "      <td>1.0</td>\n",
       "      <td>NaN</td>\n",
       "      <td>NaN</td>\n",
       "    </tr>\n",
       "    <tr>\n",
       "      <th>393.0</th>\n",
       "      <td>12.0</td>\n",
       "      <td>NaN</td>\n",
       "      <td>NaN</td>\n",
       "    </tr>\n",
       "    <tr>\n",
       "      <th>452.0</th>\n",
       "      <td>1.0</td>\n",
       "      <td>NaN</td>\n",
       "      <td>NaN</td>\n",
       "    </tr>\n",
       "    <tr>\n",
       "      <th>455.0</th>\n",
       "      <td>NaN</td>\n",
       "      <td>1.0</td>\n",
       "      <td>NaN</td>\n",
       "    </tr>\n",
       "    <tr>\n",
       "      <th>572.0</th>\n",
       "      <td>NaN</td>\n",
       "      <td>1.0</td>\n",
       "      <td>NaN</td>\n",
       "    </tr>\n",
       "  </tbody>\n",
       "</table>\n",
       "</div>"
      ],
      "text/plain": [
       "Car_Cancellation            0    1  percent_cancelled\n",
       "from_area_id to_area_id                              \n",
       "2.0          222.0        1.0  NaN                NaN\n",
       "             393.0       12.0  NaN                NaN\n",
       "             452.0        1.0  NaN                NaN\n",
       "             455.0        NaN  1.0                NaN\n",
       "             572.0        NaN  1.0                NaN"
      ]
     },
     "execution_count": 19,
     "metadata": {},
     "output_type": "execute_result"
    }
   ],
   "source": [
    "f_t.head()"
   ]
  },
  {
   "cell_type": "code",
   "execution_count": 20,
   "metadata": {},
   "outputs": [
    {
     "data": {
      "text/plain": [
       "from_area_id  to_area_id  Car_Cancellation\n",
       "2.0           222.0       0                    1\n",
       "              393.0       0                   12\n",
       "              452.0       0                    1\n",
       "              455.0       1                    1\n",
       "              572.0       1                    1\n",
       "dtype: int64"
      ]
     },
     "execution_count": 20,
     "metadata": {},
     "output_type": "execute_result"
    }
   ],
   "source": [
    "from_to.head()"
   ]
  },
  {
   "cell_type": "code",
   "execution_count": 21,
   "metadata": {},
   "outputs": [
    {
     "data": {
      "image/png": "[encoded data removed]",
      "text/plain": [
       "<Figure size 360x288 with 1 Axes>"
      ]
     },
     "metadata": {
      "needs_background": "light"
     },
     "output_type": "display_data"
    },
    {
     "name": "stdout",
     "output_type": "stream",
     "text": [
      "                not_cancelled  cancelled\n",
      "online_booking                          \n",
      "0                    0.956358   0.043642\n",
      "1                    0.875377   0.124623\n"
     ]
    }
   ],
   "source": [
    "# how online or mobile booking affect on cancellation\n",
    "#Analysing online_booking\n",
    "ax=pd.crosstab(df.online_booking,df.Car_Cancellation,normalize='index')\n",
    "\n",
    "ax.columns=['not_cancelled','cancelled']\n",
    "ax.plot(kind='bar',stacked=True,figsize=(5,4))\n",
    "\n",
    "plt.show()\n",
    "print(ax)"
   ]
  },
  {
   "cell_type": "code",
   "execution_count": 22,
   "metadata": {},
   "outputs": [
    {
     "name": "stderr",
     "output_type": "stream",
     "text": [
      "c:\\users\\vik\\appdata\\local\\programs\\python\\python37-32\\lib\\site-packages\\pandas\\core\\indexing.py:362: SettingWithCopyWarning: \n",
      "A value is trying to be set on a copy of a slice from a DataFrame.\n",
      "Try using .loc[row_indexer,col_indexer] = value instead\n",
      "\n",
      "See the caveats in the documentation: http://pandas.pydata.org/pandas-docs/stable/indexing.html#indexing-view-versus-copy\n",
      "  self.obj[key] = _infer_fill_value(value)\n",
      "c:\\users\\vik\\appdata\\local\\programs\\python\\python37-32\\lib\\site-packages\\pandas\\core\\indexing.py:543: SettingWithCopyWarning: \n",
      "A value is trying to be set on a copy of a slice from a DataFrame.\n",
      "Try using .loc[row_indexer,col_indexer] = value instead\n",
      "\n",
      "See the caveats in the documentation: http://pandas.pydata.org/pandas-docs/stable/indexing.html#indexing-view-versus-copy\n",
      "  self.obj[item] = s\n"
     ]
    },
    {
     "data": {
      "text/html": [
       "<div>\n",
       "<style scoped>\n",
       "    .dataframe tbody tr th:only-of-type {\n",
       "        vertical-align: middle;\n",
       "    }\n",
       "\n",
       "    .dataframe tbody tr th {\n",
       "        vertical-align: top;\n",
       "    }\n",
       "\n",
       "    .dataframe thead th {\n",
       "        text-align: right;\n",
       "    }\n",
       "</style>\n",
       "<table border=\"1\" class=\"dataframe\">\n",
       "  <thead>\n",
       "    <tr style=\"text-align: right;\">\n",
       "      <th></th>\n",
       "      <th>from_date</th>\n",
       "      <th>to_date</th>\n",
       "      <th>booking_created</th>\n",
       "      <th>Car_Cancellation</th>\n",
       "      <th>difference</th>\n",
       "    </tr>\n",
       "    <tr>\n",
       "      <th>id</th>\n",
       "      <th></th>\n",
       "      <th></th>\n",
       "      <th></th>\n",
       "      <th></th>\n",
       "      <th></th>\n",
       "    </tr>\n",
       "  </thead>\n",
       "  <tbody>\n",
       "    <tr>\n",
       "      <th>132512</th>\n",
       "      <td>2013-01-01 02:00:00</td>\n",
       "      <td>NaT</td>\n",
       "      <td>2013-01-01 01:39:00</td>\n",
       "      <td>0</td>\n",
       "      <td>00:21:00</td>\n",
       "    </tr>\n",
       "    <tr>\n",
       "      <th>132513</th>\n",
       "      <td>2013-01-01 09:00:00</td>\n",
       "      <td>NaT</td>\n",
       "      <td>2013-01-01 02:25:00</td>\n",
       "      <td>0</td>\n",
       "      <td>06:35:00</td>\n",
       "    </tr>\n",
       "    <tr>\n",
       "      <th>132514</th>\n",
       "      <td>2013-01-01 03:30:00</td>\n",
       "      <td>NaT</td>\n",
       "      <td>2013-01-01 03:08:00</td>\n",
       "      <td>0</td>\n",
       "      <td>00:22:00</td>\n",
       "    </tr>\n",
       "    <tr>\n",
       "      <th>132515</th>\n",
       "      <td>2013-01-01 05:45:00</td>\n",
       "      <td>NaT</td>\n",
       "      <td>2013-01-01 04:39:00</td>\n",
       "      <td>0</td>\n",
       "      <td>01:06:00</td>\n",
       "    </tr>\n",
       "    <tr>\n",
       "      <th>132517</th>\n",
       "      <td>2013-01-01 09:00:00</td>\n",
       "      <td>NaT</td>\n",
       "      <td>2013-01-01 07:53:00</td>\n",
       "      <td>0</td>\n",
       "      <td>01:07:00</td>\n",
       "    </tr>\n",
       "  </tbody>\n",
       "</table>\n",
       "</div>"
      ],
      "text/plain": [
       "                 from_date to_date     booking_created  Car_Cancellation  \\\n",
       "id                                                                         \n",
       "132512 2013-01-01 02:00:00     NaT 2013-01-01 01:39:00                 0   \n",
       "132513 2013-01-01 09:00:00     NaT 2013-01-01 02:25:00                 0   \n",
       "132514 2013-01-01 03:30:00     NaT 2013-01-01 03:08:00                 0   \n",
       "132515 2013-01-01 05:45:00     NaT 2013-01-01 04:39:00                 0   \n",
       "132517 2013-01-01 09:00:00     NaT 2013-01-01 07:53:00                 0   \n",
       "\n",
       "       difference  \n",
       "id                 \n",
       "132512   00:21:00  \n",
       "132513   06:35:00  \n",
       "132514   00:22:00  \n",
       "132515   01:06:00  \n",
       "132517   01:07:00  "
      ]
     },
     "execution_count": 22,
     "metadata": {},
     "output_type": "execute_result"
    }
   ],
   "source": [
    "booking_diff = df[['from_date', 'to_date', 'booking_created', 'Car_Cancellation']]\n",
    "booking_diff.loc[:, 'difference'] = booking_diff.loc[:, ('from_date')] - booking_diff.loc[:, ('booking_created')]\n",
    "booking_diff.head()"
   ]
  },
  {
   "cell_type": "markdown",
   "metadata": {},
   "source": [
    "making new column time difference between booking date and travel date can help in analysis as booking made long time ago is  more likely to be cancelled ."
   ]
  },
  {
   "cell_type": "code",
   "execution_count": 23,
   "metadata": {},
   "outputs": [
    {
     "name": "stdout",
     "output_type": "stream",
     "text": [
      "['2013-01-01', '2013-01-01', '2013-01-01']\n"
     ]
    }
   ],
   "source": [
    "a=np.array(df['from_date'])\n",
    "a=a.astype('str')\n",
    "\n",
    "b=[]\n",
    "for j in a:\n",
    "    b.append(j.split('T')[0])\n",
    "print(b[:3])\n"
   ]
  },
  {
   "cell_type": "code",
   "execution_count": 24,
   "metadata": {},
   "outputs": [],
   "source": [
    "time=[]\n",
    "for i in a:\n",
    "    time.append(i.split('T')[1])\n",
    "    \n",
    "b_day=[]\n",
    "b_month=[]\n",
    "b_year=[]\n",
    "for q in b:\n",
    "    b_day.append(q.split('-')[2])\n",
    "    b_month.append(q.split('-')[1])\n",
    "    b_year.append(q.split('-')[0])\n",
    "    \n",
    "time_hours=[]\n",
    "time_minutes=[]\n",
    "\n",
    "for w in time:\n",
    "    time_hours.append(w.split(':')[0])\n",
    "    time_minutes.append(w.split(':')[1])\n",
    "    \n",
    "booking=np.array(df['booking_created'])\n",
    "booking=booking.astype('str')\n",
    "x=[]\n",
    "for j in booking:\n",
    "    x.append(j.split('T')[0])\n",
    "booking_time=[]\n",
    "for i in booking:\n",
    "    booking_time.append(i.split('T')[1])\n",
    "booking_day=[]\n",
    "booking_month=[]\n",
    "booking_year=[]\n",
    "for q in x:\n",
    "    booking_day.append(q.split('-')[2])\n",
    "    booking_month.append(q.split('-')[1])\n",
    "    booking_year.append(q.split('-')[0])\n",
    "bookingtime_hours=[]\n",
    "bookingtime_minutes=[]\n",
    "\n",
    "for w in booking_time:\n",
    "    bookingtime_hours.append(w.split(':')[0])\n",
    "    bookingtime_minutes.append(w.split(':')[1])\n",
    "    \n"
   ]
  },
  {
   "cell_type": "code",
   "execution_count": 25,
   "metadata": {},
   "outputs": [
    {
     "name": "stdout",
     "output_type": "stream",
     "text": [
      "[0, 0, 0, 0, 0, 1, 1, 11, 0, 0]\n"
     ]
    }
   ],
   "source": [
    "import datetime\n",
    "difference_days=[]\n",
    "bookingdate=[]\n",
    "tripdate=[]\n",
    "for i in range(len(bookingtime_hours)):\n",
    "    bookingdate.append(datetime.datetime(int(booking_year[i]),int(booking_month[i]),int(booking_day[i]),int(bookingtime_hours[i]),int(bookingtime_minutes[i])))\n",
    "    tripdate.append(datetime.datetime(int(b_year[i]),int(b_month[i]),int(b_day[i]),int(bookingtime_hours[i]),int(bookingtime_minutes[i])))\n",
    "    diff = tripdate[i] - bookingdate[i]\n",
    "    days, seconds = diff.days, diff.seconds\n",
    "    \n",
    "    difference_days.append(days)\n",
    "    \n",
    "print(difference_days[10:20])"
   ]
  },
  {
   "cell_type": "code",
   "execution_count": 26,
   "metadata": {},
   "outputs": [
    {
     "name": "stderr",
     "output_type": "stream",
     "text": [
      "c:\\users\\vik\\appdata\\local\\programs\\python\\python37-32\\lib\\site-packages\\ipykernel_launcher.py:1: SettingWithCopyWarning: \n",
      "A value is trying to be set on a copy of a slice from a DataFrame.\n",
      "Try using .loc[row_indexer,col_indexer] = value instead\n",
      "\n",
      "See the caveats in the documentation: http://pandas.pydata.org/pandas-docs/stable/indexing.html#indexing-view-versus-copy\n",
      "  \"\"\"Entry point for launching an IPython kernel.\n"
     ]
    },
    {
     "data": {
      "text/html": [
       "<div>\n",
       "<style scoped>\n",
       "    .dataframe tbody tr th:only-of-type {\n",
       "        vertical-align: middle;\n",
       "    }\n",
       "\n",
       "    .dataframe tbody tr th {\n",
       "        vertical-align: top;\n",
       "    }\n",
       "\n",
       "    .dataframe thead th {\n",
       "        text-align: right;\n",
       "    }\n",
       "</style>\n",
       "<table border=\"1\" class=\"dataframe\">\n",
       "  <thead>\n",
       "    <tr style=\"text-align: right;\">\n",
       "      <th></th>\n",
       "      <th>from_date</th>\n",
       "      <th>to_date</th>\n",
       "      <th>booking_created</th>\n",
       "      <th>Car_Cancellation</th>\n",
       "      <th>difference</th>\n",
       "      <th>diff_in_days</th>\n",
       "    </tr>\n",
       "    <tr>\n",
       "      <th>id</th>\n",
       "      <th></th>\n",
       "      <th></th>\n",
       "      <th></th>\n",
       "      <th></th>\n",
       "      <th></th>\n",
       "      <th></th>\n",
       "    </tr>\n",
       "  </thead>\n",
       "  <tbody>\n",
       "    <tr>\n",
       "      <th>132512</th>\n",
       "      <td>2013-01-01 02:00:00</td>\n",
       "      <td>NaT</td>\n",
       "      <td>2013-01-01 01:39:00</td>\n",
       "      <td>0</td>\n",
       "      <td>00:21:00</td>\n",
       "      <td>0</td>\n",
       "    </tr>\n",
       "    <tr>\n",
       "      <th>132513</th>\n",
       "      <td>2013-01-01 09:00:00</td>\n",
       "      <td>NaT</td>\n",
       "      <td>2013-01-01 02:25:00</td>\n",
       "      <td>0</td>\n",
       "      <td>06:35:00</td>\n",
       "      <td>0</td>\n",
       "    </tr>\n",
       "    <tr>\n",
       "      <th>132514</th>\n",
       "      <td>2013-01-01 03:30:00</td>\n",
       "      <td>NaT</td>\n",
       "      <td>2013-01-01 03:08:00</td>\n",
       "      <td>0</td>\n",
       "      <td>00:22:00</td>\n",
       "      <td>0</td>\n",
       "    </tr>\n",
       "    <tr>\n",
       "      <th>132515</th>\n",
       "      <td>2013-01-01 05:45:00</td>\n",
       "      <td>NaT</td>\n",
       "      <td>2013-01-01 04:39:00</td>\n",
       "      <td>0</td>\n",
       "      <td>01:06:00</td>\n",
       "      <td>0</td>\n",
       "    </tr>\n",
       "    <tr>\n",
       "      <th>132517</th>\n",
       "      <td>2013-01-01 09:00:00</td>\n",
       "      <td>NaT</td>\n",
       "      <td>2013-01-01 07:53:00</td>\n",
       "      <td>0</td>\n",
       "      <td>01:07:00</td>\n",
       "      <td>0</td>\n",
       "    </tr>\n",
       "    <tr>\n",
       "      <th>132518</th>\n",
       "      <td>2013-01-01 22:30:00</td>\n",
       "      <td>NaT</td>\n",
       "      <td>2013-01-01 08:01:00</td>\n",
       "      <td>0</td>\n",
       "      <td>14:29:00</td>\n",
       "      <td>0</td>\n",
       "    </tr>\n",
       "    <tr>\n",
       "      <th>132519</th>\n",
       "      <td>2013-01-01 09:45:00</td>\n",
       "      <td>1970-01-01 00:00:00.000041275</td>\n",
       "      <td>2013-01-01 09:21:00</td>\n",
       "      <td>0</td>\n",
       "      <td>00:24:00</td>\n",
       "      <td>0</td>\n",
       "    </tr>\n",
       "    <tr>\n",
       "      <th>132520</th>\n",
       "      <td>2013-01-01 11:00:00</td>\n",
       "      <td>NaT</td>\n",
       "      <td>2013-01-01 09:39:00</td>\n",
       "      <td>0</td>\n",
       "      <td>01:21:00</td>\n",
       "      <td>0</td>\n",
       "    </tr>\n",
       "    <tr>\n",
       "      <th>132521</th>\n",
       "      <td>2013-01-01 16:00:00</td>\n",
       "      <td>NaT</td>\n",
       "      <td>2013-01-01 09:44:00</td>\n",
       "      <td>0</td>\n",
       "      <td>06:16:00</td>\n",
       "      <td>0</td>\n",
       "    </tr>\n",
       "    <tr>\n",
       "      <th>132522</th>\n",
       "      <td>2013-01-01 11:00:00</td>\n",
       "      <td>NaT</td>\n",
       "      <td>2013-01-01 09:49:00</td>\n",
       "      <td>0</td>\n",
       "      <td>01:11:00</td>\n",
       "      <td>0</td>\n",
       "    </tr>\n",
       "  </tbody>\n",
       "</table>\n",
       "</div>"
      ],
      "text/plain": [
       "                 from_date                       to_date     booking_created  \\\n",
       "id                                                                             \n",
       "132512 2013-01-01 02:00:00                           NaT 2013-01-01 01:39:00   \n",
       "132513 2013-01-01 09:00:00                           NaT 2013-01-01 02:25:00   \n",
       "132514 2013-01-01 03:30:00                           NaT 2013-01-01 03:08:00   \n",
       "132515 2013-01-01 05:45:00                           NaT 2013-01-01 04:39:00   \n",
       "132517 2013-01-01 09:00:00                           NaT 2013-01-01 07:53:00   \n",
       "132518 2013-01-01 22:30:00                           NaT 2013-01-01 08:01:00   \n",
       "132519 2013-01-01 09:45:00 1970-01-01 00:00:00.000041275 2013-01-01 09:21:00   \n",
       "132520 2013-01-01 11:00:00                           NaT 2013-01-01 09:39:00   \n",
       "132521 2013-01-01 16:00:00                           NaT 2013-01-01 09:44:00   \n",
       "132522 2013-01-01 11:00:00                           NaT 2013-01-01 09:49:00   \n",
       "\n",
       "        Car_Cancellation difference  diff_in_days  \n",
       "id                                                 \n",
       "132512                 0   00:21:00             0  \n",
       "132513                 0   06:35:00             0  \n",
       "132514                 0   00:22:00             0  \n",
       "132515                 0   01:06:00             0  \n",
       "132517                 0   01:07:00             0  \n",
       "132518                 0   14:29:00             0  \n",
       "132519                 0   00:24:00             0  \n",
       "132520                 0   01:21:00             0  \n",
       "132521                 0   06:16:00             0  \n",
       "132522                 0   01:11:00             0  "
      ]
     },
     "execution_count": 26,
     "metadata": {},
     "output_type": "execute_result"
    }
   ],
   "source": [
    "booking_diff['diff_in_days']=difference_days\n",
    "booking_diff.head(10)"
   ]
  },
  {
   "cell_type": "code",
   "execution_count": 27,
   "metadata": {},
   "outputs": [
    {
     "data": {
      "image/png": "[encoded data removed]",
      "text/plain": [
       "<Figure size 432x288 with 2 Axes>"
      ]
     },
     "metadata": {
      "needs_background": "light"
     },
     "output_type": "display_data"
    }
   ],
   "source": [
    "booking_diff.hist(column='diff_in_days', by='Car_Cancellation', bins=100);\n"
   ]
  },
  {
   "cell_type": "code",
   "execution_count": 28,
   "metadata": {},
   "outputs": [
    {
     "data": {
      "text/html": [
       "<div>\n",
       "<style scoped>\n",
       "    .dataframe tbody tr th:only-of-type {\n",
       "        vertical-align: middle;\n",
       "    }\n",
       "\n",
       "    .dataframe tbody tr th {\n",
       "        vertical-align: top;\n",
       "    }\n",
       "\n",
       "    .dataframe thead th {\n",
       "        text-align: right;\n",
       "    }\n",
       "</style>\n",
       "<table border=\"1\" class=\"dataframe\">\n",
       "  <thead>\n",
       "    <tr style=\"text-align: right;\">\n",
       "      <th></th>\n",
       "      <th>from_date</th>\n",
       "      <th>to_date</th>\n",
       "      <th>booking_created</th>\n",
       "      <th>Car_Cancellation</th>\n",
       "      <th>difference</th>\n",
       "    </tr>\n",
       "    <tr>\n",
       "      <th>id</th>\n",
       "      <th></th>\n",
       "      <th></th>\n",
       "      <th></th>\n",
       "      <th></th>\n",
       "      <th></th>\n",
       "    </tr>\n",
       "  </thead>\n",
       "  <tbody>\n",
       "    <tr>\n",
       "      <th>132512</th>\n",
       "      <td>2013-01-01 02:00:00</td>\n",
       "      <td>NaT</td>\n",
       "      <td>2013-01-01 01:39:00</td>\n",
       "      <td>0</td>\n",
       "      <td>00:21:00</td>\n",
       "    </tr>\n",
       "    <tr>\n",
       "      <th>132513</th>\n",
       "      <td>2013-01-01 09:00:00</td>\n",
       "      <td>NaT</td>\n",
       "      <td>2013-01-01 02:25:00</td>\n",
       "      <td>0</td>\n",
       "      <td>06:35:00</td>\n",
       "    </tr>\n",
       "    <tr>\n",
       "      <th>132514</th>\n",
       "      <td>2013-01-01 03:30:00</td>\n",
       "      <td>NaT</td>\n",
       "      <td>2013-01-01 03:08:00</td>\n",
       "      <td>0</td>\n",
       "      <td>00:22:00</td>\n",
       "    </tr>\n",
       "    <tr>\n",
       "      <th>132515</th>\n",
       "      <td>2013-01-01 05:45:00</td>\n",
       "      <td>NaT</td>\n",
       "      <td>2013-01-01 04:39:00</td>\n",
       "      <td>0</td>\n",
       "      <td>01:06:00</td>\n",
       "    </tr>\n",
       "    <tr>\n",
       "      <th>132517</th>\n",
       "      <td>2013-01-01 09:00:00</td>\n",
       "      <td>NaT</td>\n",
       "      <td>2013-01-01 07:53:00</td>\n",
       "      <td>0</td>\n",
       "      <td>01:07:00</td>\n",
       "    </tr>\n",
       "  </tbody>\n",
       "</table>\n",
       "</div>"
      ],
      "text/plain": [
       "                 from_date to_date     booking_created  Car_Cancellation  \\\n",
       "id                                                                         \n",
       "132512 2013-01-01 02:00:00     NaT 2013-01-01 01:39:00                 0   \n",
       "132513 2013-01-01 09:00:00     NaT 2013-01-01 02:25:00                 0   \n",
       "132514 2013-01-01 03:30:00     NaT 2013-01-01 03:08:00                 0   \n",
       "132515 2013-01-01 05:45:00     NaT 2013-01-01 04:39:00                 0   \n",
       "132517 2013-01-01 09:00:00     NaT 2013-01-01 07:53:00                 0   \n",
       "\n",
       "       difference  \n",
       "id                 \n",
       "132512   00:21:00  \n",
       "132513   06:35:00  \n",
       "132514   00:22:00  \n",
       "132515   01:06:00  \n",
       "132517   01:07:00  "
      ]
     },
     "execution_count": 28,
     "metadata": {},
     "output_type": "execute_result"
    }
   ],
   "source": [
    "booking_diff = df[['from_date', 'to_date', 'booking_created', 'Car_Cancellation']]\n",
    "booking_diff.loc[:, ('difference')] = booking_diff.loc[:, ('from_date')] - booking_diff.loc[:, ('booking_created')]\n",
    "booking_diff.head()"
   ]
  },
  {
   "cell_type": "markdown",
   "metadata": {},
   "source": [
    "making new column time difference between booking date and travel date can help in analysis as booking made long time ago is  more likely to be cancelled ."
   ]
  },
  {
   "cell_type": "code",
   "execution_count": 29,
   "metadata": {},
   "outputs": [
    {
     "name": "stdout",
     "output_type": "stream",
     "text": [
      "['2013-01-01', '2013-01-01', '2013-01-01']\n"
     ]
    }
   ],
   "source": [
    "a=np.array(df['from_date'])\n",
    "a=a.astype('str')\n",
    "\n",
    "b=[]\n",
    "for j in a:\n",
    "    b.append(j.split('T')[0])\n",
    "print(b[:3])\n"
   ]
  },
  {
   "cell_type": "code",
   "execution_count": 30,
   "metadata": {},
   "outputs": [],
   "source": [
    "time=[]\n",
    "for i in a:\n",
    "    time.append(i.split('T')[1])\n"
   ]
  },
  {
   "cell_type": "code",
   "execution_count": 31,
   "metadata": {},
   "outputs": [],
   "source": [
    "time_hours=[]\n",
    "time_minutes=[]\n",
    "\n",
    "for w in time:\n",
    "    time_hours.append(w.split(':')[0])\n",
    "    time_minutes.append(w.split(':')[1])"
   ]
  },
  {
   "cell_type": "code",
   "execution_count": 32,
   "metadata": {},
   "outputs": [],
   "source": [
    "booking=np.array(df['booking_created'])\n",
    "booking=booking.astype('str')\n",
    "x=[]\n",
    "for j in booking:\n",
    "    x.append(j.split('T')[0])\n",
    "booking_time=[]\n",
    "for i in booking:\n",
    "    booking_time.append(i.split('T')[1])\n",
    "booking_day=[]\n",
    "booking_month=[]\n",
    "booking_year=[]\n",
    "for q in x:\n",
    "    booking_day.append(q.split('-')[2])\n",
    "    booking_month.append(q.split('-')[1])\n",
    "    booking_year.append(q.split('-')[0])\n",
    "bookingtime_hours=[]\n",
    "bookingtime_minutes=[]\n",
    "\n",
    "for w in booking_time:\n",
    "    bookingtime_hours.append(w.split(':')[0])\n",
    "    bookingtime_minutes.append(w.split(':')[1])"
   ]
  },
  {
   "cell_type": "code",
   "execution_count": 33,
   "metadata": {},
   "outputs": [
    {
     "name": "stdout",
     "output_type": "stream",
     "text": [
      "[0, 0, 0, 0, 0, 1, 1, 11, 0, 0]\n"
     ]
    }
   ],
   "source": [
    "import datetime\n",
    "difference_days=[]\n",
    "bookingdate=[]\n",
    "tripdate=[]\n",
    "for i in range(len(bookingtime_hours)):\n",
    "    bookingdate.append(datetime.datetime(int(booking_year[i]),int(booking_month[i]),int(booking_day[i]),int(bookingtime_hours[i]),int(bookingtime_minutes[i])))\n",
    "    tripdate.append(datetime.datetime(int(b_year[i]),int(b_month[i]),int(b_day[i]),int(bookingtime_hours[i]),int(bookingtime_minutes[i])))\n",
    "    diff = tripdate[i] - bookingdate[i]\n",
    "    days, seconds = diff.days, diff.seconds\n",
    "    \n",
    "    difference_days.append(days)\n",
    "    \n",
    "print(difference_days[10:20])"
   ]
  },
  {
   "cell_type": "code",
   "execution_count": 34,
   "metadata": {},
   "outputs": [],
   "source": [
    "b_day=[]\n",
    "b_month=[]\n",
    "b_year=[]\n",
    "for q in b:\n",
    "    b_day.append(q.split('-')[2])\n",
    "    b_month.append(q.split('-')[1])\n",
    "    b_year.append(q.split('-')[0])"
   ]
  },
  {
   "cell_type": "code",
   "execution_count": 35,
   "metadata": {},
   "outputs": [],
   "source": [
    "booking_diff.loc[:,('diff_in_days')]=difference_days"
   ]
  },
  {
   "cell_type": "code",
   "execution_count": 36,
   "metadata": {},
   "outputs": [
    {
     "data": {
      "image/png": "[encoded data removed]",
      "text/plain": [
       "<Figure size 432x288 with 1 Axes>"
      ]
     },
     "metadata": {
      "needs_background": "light"
     },
     "output_type": "display_data"
    }
   ],
   "source": [
    "#Analysing travel type id\n",
    "zc=pd.crosstab(df.travel_type_id,df.Car_Cancellation,normalize='index')\n",
    "zc.columns=['not_cancelled','cancelled']\n",
    "plt.plot(zc.index,zc['cancelled'],color='green', linestyle='dashed', marker='o',\n",
    "     markerfacecolor='blue', markersize=12)\n",
    "plt.xlabel('Travel Type Id')\n",
    "plt.ylabel('percentage_cancellation')\n",
    "plt.show()"
   ]
  },
  {
   "cell_type": "code",
   "execution_count": 37,
   "metadata": {},
   "outputs": [
    {
     "data": {
      "text/plain": [
       "Index(['user_id', 'vehicle_model_id', 'package_id', 'travel_type_id',\n",
       "       'from_area_id', 'to_area_id', 'from_city_id', 'to_city_id', 'from_date',\n",
       "       'to_date', 'online_booking', 'mobile_site_booking', 'booking_created',\n",
       "       'from_lat', 'from_long', 'to_lat', 'to_long', 'Car_Cancellation',\n",
       "       'Cost_of_error'],\n",
       "      dtype='object')"
      ]
     },
     "execution_count": 37,
     "metadata": {},
     "output_type": "execute_result"
    }
   ],
   "source": [
    "df.columns"
   ]
  },
  {
   "cell_type": "code",
   "execution_count": 38,
   "metadata": {},
   "outputs": [
    {
     "name": "stdout",
     "output_type": "stream",
     "text": [
      "<class 'pandas.core.frame.DataFrame'>\n",
      "Int64Index: 43431 entries, 132512 to 185941\n",
      "Data columns (total 19 columns):\n",
      "user_id                43431 non-null int64\n",
      "vehicle_model_id       43431 non-null int64\n",
      "package_id             7550 non-null float64\n",
      "travel_type_id         43431 non-null int64\n",
      "from_area_id           43343 non-null float64\n",
      "to_area_id             34293 non-null float64\n",
      "from_city_id           16345 non-null float64\n",
      "to_city_id             1588 non-null float64\n",
      "from_date              43431 non-null datetime64[ns]\n",
      "to_date                25541 non-null datetime64[ns]\n",
      "online_booking         43431 non-null int64\n",
      "mobile_site_booking    43431 non-null int64\n",
      "booking_created        43431 non-null datetime64[ns]\n",
      "from_lat               43338 non-null float64\n",
      "from_long              43338 non-null float64\n",
      "to_lat                 34293 non-null float64\n",
      "to_long                34293 non-null float64\n",
      "Car_Cancellation       43431 non-null int64\n",
      "Cost_of_error          43431 non-null float64\n",
      "dtypes: datetime64[ns](3), float64(10), int64(6)\n",
      "memory usage: 6.6 MB\n"
     ]
    }
   ],
   "source": [
    "df.info()"
   ]
  },
  {
   "cell_type": "code",
   "execution_count": 39,
   "metadata": {},
   "outputs": [],
   "source": [
    "df.loc[:, 'from_month'] = df.from_date.dt.month\n",
    "df.loc[:, 'from_weekday'] = df.from_date.dt.weekday\n",
    "df.loc[:, 'booking_month'] = df.booking_created.dt.month\n",
    "df.loc[:, 'booking_weekday'] = df.booking_created.dt.weekday\n",
    "df.loc[:, 'days_before_booking'] = booking_diff['diff_in_days']"
   ]
  },
  {
   "cell_type": "code",
   "execution_count": 40,
   "metadata": {},
   "outputs": [],
   "source": [
    "feat_cols = ['vehicle_model_id', 'travel_type_id', 'from_area_id',\n",
    "                 'to_area_id','from_month', 'from_weekday',\n",
    "                 'days_before_booking', 'online_booking', 'mobile_site_booking',\n",
    "                 'booking_month', 'booking_weekday']"
   ]
  },
  {
   "cell_type": "code",
   "execution_count": 41,
   "metadata": {},
   "outputs": [
    {
     "data": {
      "text/html": [
       "<div>\n",
       "<style scoped>\n",
       "    .dataframe tbody tr th:only-of-type {\n",
       "        vertical-align: middle;\n",
       "    }\n",
       "\n",
       "    .dataframe tbody tr th {\n",
       "        vertical-align: top;\n",
       "    }\n",
       "\n",
       "    .dataframe thead th {\n",
       "        text-align: right;\n",
       "    }\n",
       "</style>\n",
       "<table border=\"1\" class=\"dataframe\">\n",
       "  <thead>\n",
       "    <tr style=\"text-align: right;\">\n",
       "      <th></th>\n",
       "      <th>vehicle_model_id</th>\n",
       "      <th>travel_type_id</th>\n",
       "      <th>from_area_id</th>\n",
       "      <th>to_area_id</th>\n",
       "      <th>from_month</th>\n",
       "      <th>from_weekday</th>\n",
       "      <th>days_before_booking</th>\n",
       "      <th>online_booking</th>\n",
       "      <th>mobile_site_booking</th>\n",
       "      <th>booking_month</th>\n",
       "      <th>booking_weekday</th>\n",
       "    </tr>\n",
       "    <tr>\n",
       "      <th>id</th>\n",
       "      <th></th>\n",
       "      <th></th>\n",
       "      <th></th>\n",
       "      <th></th>\n",
       "      <th></th>\n",
       "      <th></th>\n",
       "      <th></th>\n",
       "      <th></th>\n",
       "      <th></th>\n",
       "      <th></th>\n",
       "      <th></th>\n",
       "    </tr>\n",
       "  </thead>\n",
       "  <tbody>\n",
       "    <tr>\n",
       "      <th>132512</th>\n",
       "      <td>28</td>\n",
       "      <td>2</td>\n",
       "      <td>83.0</td>\n",
       "      <td>448.0</td>\n",
       "      <td>1</td>\n",
       "      <td>1</td>\n",
       "      <td>0</td>\n",
       "      <td>0</td>\n",
       "      <td>0</td>\n",
       "      <td>1</td>\n",
       "      <td>1</td>\n",
       "    </tr>\n",
       "    <tr>\n",
       "      <th>132513</th>\n",
       "      <td>12</td>\n",
       "      <td>2</td>\n",
       "      <td>1010.0</td>\n",
       "      <td>540.0</td>\n",
       "      <td>1</td>\n",
       "      <td>1</td>\n",
       "      <td>0</td>\n",
       "      <td>0</td>\n",
       "      <td>0</td>\n",
       "      <td>1</td>\n",
       "      <td>1</td>\n",
       "    </tr>\n",
       "    <tr>\n",
       "      <th>132514</th>\n",
       "      <td>12</td>\n",
       "      <td>2</td>\n",
       "      <td>1301.0</td>\n",
       "      <td>1034.0</td>\n",
       "      <td>1</td>\n",
       "      <td>1</td>\n",
       "      <td>0</td>\n",
       "      <td>0</td>\n",
       "      <td>0</td>\n",
       "      <td>1</td>\n",
       "      <td>1</td>\n",
       "    </tr>\n",
       "    <tr>\n",
       "      <th>132515</th>\n",
       "      <td>12</td>\n",
       "      <td>2</td>\n",
       "      <td>768.0</td>\n",
       "      <td>398.0</td>\n",
       "      <td>1</td>\n",
       "      <td>1</td>\n",
       "      <td>0</td>\n",
       "      <td>0</td>\n",
       "      <td>0</td>\n",
       "      <td>1</td>\n",
       "      <td>1</td>\n",
       "    </tr>\n",
       "    <tr>\n",
       "      <th>132517</th>\n",
       "      <td>12</td>\n",
       "      <td>2</td>\n",
       "      <td>1365.0</td>\n",
       "      <td>849.0</td>\n",
       "      <td>1</td>\n",
       "      <td>1</td>\n",
       "      <td>0</td>\n",
       "      <td>0</td>\n",
       "      <td>0</td>\n",
       "      <td>1</td>\n",
       "      <td>1</td>\n",
       "    </tr>\n",
       "  </tbody>\n",
       "</table>\n",
       "</div>"
      ],
      "text/plain": [
       "        vehicle_model_id  travel_type_id  from_area_id  to_area_id  \\\n",
       "id                                                                   \n",
       "132512                28               2          83.0       448.0   \n",
       "132513                12               2        1010.0       540.0   \n",
       "132514                12               2        1301.0      1034.0   \n",
       "132515                12               2         768.0       398.0   \n",
       "132517                12               2        1365.0       849.0   \n",
       "\n",
       "        from_month  from_weekday  days_before_booking  online_booking  \\\n",
       "id                                                                      \n",
       "132512           1             1                    0               0   \n",
       "132513           1             1                    0               0   \n",
       "132514           1             1                    0               0   \n",
       "132515           1             1                    0               0   \n",
       "132517           1             1                    0               0   \n",
       "\n",
       "        mobile_site_booking  booking_month  booking_weekday  \n",
       "id                                                           \n",
       "132512                    0              1                1  \n",
       "132513                    0              1                1  \n",
       "132514                    0              1                1  \n",
       "132515                    0              1                1  \n",
       "132517                    0              1                1  "
      ]
     },
     "execution_count": 41,
     "metadata": {},
     "output_type": "execute_result"
    }
   ],
   "source": [
    "features = df[feat_cols]\n",
    "y = df.Car_Cancellation\n",
    "\n",
    "features.head()"
   ]
  },
  {
   "cell_type": "code",
   "execution_count": 42,
   "metadata": {},
   "outputs": [
    {
     "name": "stderr",
     "output_type": "stream",
     "text": [
      "c:\\users\\vik\\appdata\\local\\programs\\python\\python37-32\\lib\\site-packages\\pandas\\core\\generic.py:6130: SettingWithCopyWarning: \n",
      "A value is trying to be set on a copy of a slice from a DataFrame\n",
      "\n",
      "See the caveats in the documentation: http://pandas.pydata.org/pandas-docs/stable/indexing.html#indexing-view-versus-copy\n",
      "  self._update_inplace(new_data)\n"
     ]
    }
   ],
   "source": [
    "#replce missing values with (-9999)\n",
    "features.from_area_id.fillna(-9999, inplace=True)\n",
    "features.to_area_id.fillna(-9999, inplace=True)"
   ]
  },
  {
   "cell_type": "code",
   "execution_count": 43,
   "metadata": {},
   "outputs": [
    {
     "data": {
      "text/plain": [
       "(43431, 11)"
      ]
     },
     "execution_count": 43,
     "metadata": {},
     "output_type": "execute_result"
    }
   ],
   "source": [
    "features.shape"
   ]
  },
  {
   "cell_type": "code",
   "execution_count": 44,
   "metadata": {},
   "outputs": [
    {
     "data": {
      "text/plain": [
       "id\n",
       "132512    0\n",
       "132513    0\n",
       "132514    0\n",
       "132515    0\n",
       "132517    0\n",
       "Name: Car_Cancellation, dtype: int64"
      ]
     },
     "execution_count": 44,
     "metadata": {},
     "output_type": "execute_result"
    }
   ],
   "source": [
    "y.head()"
   ]
  },
  {
   "cell_type": "code",
   "execution_count": 45,
   "metadata": {},
   "outputs": [
    {
     "data": {
      "text/plain": [
       "(43431,)"
      ]
     },
     "execution_count": 45,
     "metadata": {},
     "output_type": "execute_result"
    }
   ],
   "source": [
    "y.shape"
   ]
  },
  {
   "cell_type": "code",
   "execution_count": 46,
   "metadata": {},
   "outputs": [],
   "source": [
    "features.from_area_id.fillna(-9999, inplace=True)\n",
    "features.to_area_id.fillna(-9999, inplace=True)"
   ]
  },
  {
   "cell_type": "code",
   "execution_count": 47,
   "metadata": {},
   "outputs": [
    {
     "name": "stdout",
     "output_type": "stream",
     "text": [
      "Train: [    0     1     3 ... 43427 43428 43430] Validation: [    2    15    21 ... 43425 43426 43429]\n",
      "Train: [    0     1     2 ... 43427 43429 43430] Validation: [    4     6    10 ... 43414 43415 43428]\n",
      "Train: [    1     2     3 ... 43428 43429 43430] Validation: [    0    17    28 ... 43416 43417 43419]\n",
      "Train: [    0     2     3 ... 43428 43429 43430] Validation: [    1     5     7 ... 43418 43422 43427]\n",
      "Train: [    0     1     2 ... 43427 43428 43429] Validation: [    3    11    12 ... 43421 43423 43430]\n",
      "Train: [    0     1     2 ... 43428 43429 43430] Validation: [   17    18    20 ... 43412 43421 43423]\n",
      "Train: [    0     1     2 ... 43428 43429 43430] Validation: [    3    13    21 ... 43419 43420 43422]\n",
      "Train: [    0     1     2 ... 43427 43429 43430] Validation: [    5     9    16 ... 43418 43425 43428]\n",
      "Train: [    1     2     3 ... 43426 43427 43428] Validation: [    0     6    14 ... 43417 43429 43430]\n",
      "Train: [    0     3     5 ... 43428 43429 43430] Validation: [    1     2     4 ... 43424 43426 43427]\n",
      "Train: [    0     1     3 ... 43428 43429 43430] Validation: [    2     7     8 ... 43421 43422 43423]\n",
      "Train: [    0     1     2 ... 43427 43429 43430] Validation: [    5     6     9 ... 43411 43426 43428]\n",
      "Train: [    0     1     2 ... 43426 43428 43429] Validation: [    3    14    19 ... 43415 43427 43430]\n",
      "Train: [    0     1     2 ... 43427 43428 43430] Validation: [   10    11    12 ... 43418 43424 43429]\n",
      "Train: [    2     3     5 ... 43428 43429 43430] Validation: [    0     1     4 ... 43414 43419 43425]\n",
      "Train: [    0     1     3 ... 43427 43428 43429] Validation: [    2     5     9 ... 43425 43426 43430]\n",
      "Train: [    0     2     3 ... 43427 43428 43430] Validation: [    1    13    15 ... 43418 43421 43429]\n",
      "Train: [    0     1     2 ... 43428 43429 43430] Validation: [    4    11    14 ... 43403 43420 43427]\n",
      "Train: [    0     1     2 ... 43428 43429 43430] Validation: [    3     7    12 ... 43416 43422 43424]\n",
      "Train: [    1     2     3 ... 43427 43429 43430] Validation: [    0     6     8 ... 43411 43419 43428]\n",
      "Train: [    0     1     2 ... 43428 43429 43430] Validation: [    3     6    13 ... 43412 43416 43426]\n",
      "Train: [    2     3     4 ... 43424 43425 43426] Validation: [    0     1    14 ... 43428 43429 43430]\n",
      "Train: [    0     1     3 ... 43428 43429 43430] Validation: [    2     5    22 ... 43421 43422 43424]\n",
      "Train: [    0     1     2 ... 43428 43429 43430] Validation: [    7     8     9 ... 43405 43415 43420]\n",
      "Train: [    0     1     2 ... 43428 43429 43430] Validation: [    4    11    12 ... 43413 43414 43425]\n",
      "Train: [    1     2     3 ... 43428 43429 43430] Validation: [    0     6    10 ... 43417 43419 43420]\n",
      "Train: [    0     1     3 ... 43427 43428 43429] Validation: [    2     8    11 ... 43422 43425 43430]\n",
      "Train: [    0     1     2 ... 43428 43429 43430] Validation: [    4    14    18 ... 43413 43423 43424]\n",
      "Train: [    0     1     2 ... 43428 43429 43430] Validation: [    3     5    16 ... 43406 43409 43427]\n",
      "Train: [    0     2     3 ... 43425 43427 43430] Validation: [    1     7     9 ... 43426 43428 43429]\n",
      "Train: [    0     1     4 ... 43427 43428 43430] Validation: [    2     3     5 ... 43407 43415 43429]\n",
      "Train: [    0     2     3 ... 43428 43429 43430] Validation: [    1    12    18 ... 43410 43417 43426]\n",
      "Train: [    0     1     2 ... 43428 43429 43430] Validation: [    4     8     9 ... 43424 43425 43427]\n",
      "Train: [    1     2     3 ... 43426 43427 43429] Validation: [    0     6     7 ... 43419 43428 43430]\n",
      "Train: [    0     1     2 ... 43428 43429 43430] Validation: [   15    22    35 ... 43406 43416 43420]\n",
      "Train: [    0     3     4 ... 43424 43428 43430] Validation: [    1     2     6 ... 43426 43427 43429]\n",
      "Train: [    0     1     2 ... 43428 43429 43430] Validation: [    7    12    24 ... 43417 43421 43424]\n",
      "Train: [    0     1     2 ... 43428 43429 43430] Validation: [    5    11    15 ... 43409 43418 43423]\n",
      "Train: [    0     1     2 ... 43428 43429 43430] Validation: [    9    14    16 ... 43408 43419 43422]\n",
      "Train: [    1     2     5 ... 43426 43427 43429] Validation: [    0     3     4 ... 43420 43428 43430]\n",
      "Train: [    2     3     4 ... 43428 43429 43430] Validation: [    0     1     5 ... 43412 43416 43419]\n",
      "Train: [    0     1     2 ... 43427 43429 43430] Validation: [    8    12    15 ... 43425 43426 43428]\n",
      "Train: [    0     1     2 ... 43428 43429 43430] Validation: [   14    20    23 ... 43413 43418 43423]\n",
      "Train: [    0     1     3 ... 43426 43428 43430] Validation: [    2     4    13 ... 43414 43427 43429]\n",
      "Train: [    0     1     2 ... 43427 43428 43429] Validation: [    3     6     7 ... 43420 43422 43430]\n",
      "Train: [    0     1     2 ... 43427 43428 43429] Validation: [    9    22    26 ... 43418 43419 43430]\n",
      "Train: [    1     3     5 ... 43427 43429 43430] Validation: [    0     2     4 ... 43417 43421 43428]\n",
      "Train: [    0     1     2 ... 43428 43429 43430] Validation: [    3    10    13 ... 43415 43422 43426]\n",
      "Train: [    0     2     3 ... 43428 43429 43430] Validation: [    1     5    14 ... 43403 43406 43423]\n",
      "Train: [    0     1     2 ... 43426 43428 43430] Validation: [    7     8    18 ... 43425 43427 43429]\n",
      "50\n"
     ]
    }
   ],
   "source": [
    "from sklearn.model_selection import RepeatedKFold \n",
    "kf = RepeatedKFold(n_splits=5, n_repeats=10, random_state=None) \n",
    "z=0\n",
    "for train_index, test_index in kf.split(features):\n",
    "      print(\"Train:\", train_index, \"Validation:\",test_index)\n",
    "      Xtr, Xv = features.iloc[train_index], features.iloc[test_index] \n",
    "      ytr, yv = y.iloc[train_index], y.iloc[test_index]\n",
    "      z+=1\n",
    "print(z)"
   ]
  },
  {
   "cell_type": "markdown",
   "metadata": {},
   "source": [
    "# Implementing SVM"
   ]
  },
  {
   "cell_type": "code",
   "execution_count": 48,
   "metadata": {},
   "outputs": [
    {
     "data": {
      "text/plain": [
       "<matplotlib.axes._subplots.AxesSubplot at 0x10939f70>"
      ]
     },
     "execution_count": 48,
     "metadata": {},
     "output_type": "execute_result"
    },
    {
     "data": {
      "image/png": "[encoded data removed]",
      "text/plain": [
       "<Figure size 432x288 with 1 Axes>"
      ]
     },
     "metadata": {
      "needs_background": "light"
     },
     "output_type": "display_data"
    }
   ],
   "source": [
    "import matplotlib\n",
    "import matplotlib.pyplot as plt\n",
    "colors = ['red','green']\n",
    "ytr.hist()\n"
   ]
  },
  {
   "cell_type": "code",
   "execution_count": 49,
   "metadata": {},
   "outputs": [
    {
     "data": {
      "text/plain": [
       "Car_Cancellation\n",
       "0    AxesSubplot(0.125,0.125;0.775x0.755)\n",
       "1    AxesSubplot(0.125,0.125;0.775x0.755)\n",
       "Name: user_id, dtype: object"
      ]
     },
     "execution_count": 49,
     "metadata": {},
     "output_type": "execute_result"
    },
    {
     "data": {
      "image/png": "[encoded data removed]",
      "text/plain": [
       "<Figure size 432x288 with 1 Axes>"
      ]
     },
     "metadata": {
      "needs_background": "light"
     },
     "output_type": "display_data"
    }
   ],
   "source": [
    "df.groupby('Car_Cancellation').user_id.hist(alpha=.4)"
   ]
  },
  {
   "cell_type": "code",
   "execution_count": 50,
   "metadata": {},
   "outputs": [
    {
     "name": "stderr",
     "output_type": "stream",
     "text": [
      "c:\\users\\vik\\appdata\\local\\programs\\python\\python37-32\\lib\\site-packages\\sklearn\\svm\\base.py:196: FutureWarning: The default value of gamma will change from 'auto' to 'scale' in version 0.22 to account better for unscaled features. Set gamma explicitly to 'auto' or 'scale' to avoid this warning.\n",
      "  \"avoid this warning.\", FutureWarning)\n"
     ]
    }
   ],
   "source": [
    "from sklearn.svm import SVC\n",
    "svclassifier = SVC(kernel='rbf')\n",
    "svc=svclassifier.fit(Xtr, ytr)"
   ]
  },
  {
   "cell_type": "code",
   "execution_count": 51,
   "metadata": {},
   "outputs": [],
   "source": [
    "y_pred = svclassifier.predict(Xtr)  "
   ]
  },
  {
   "cell_type": "code",
   "execution_count": 52,
   "metadata": {},
   "outputs": [
    {
     "name": "stdout",
     "output_type": "stream",
     "text": [
      "[[32197     0]\n",
      " [  945  1603]]\n",
      "              precision    recall  f1-score   support\n",
      "\n",
      "           0       0.97      1.00      0.99     32197\n",
      "           1       1.00      0.63      0.77      2548\n",
      "\n",
      "   micro avg       0.97      0.97      0.97     34745\n",
      "   macro avg       0.99      0.81      0.88     34745\n",
      "weighted avg       0.97      0.97      0.97     34745\n",
      "\n"
     ]
    }
   ],
   "source": [
    "from sklearn.metrics import classification_report, confusion_matrix  \n",
    "print(confusion_matrix(ytr,y_pred))  \n",
    "print(classification_report(ytr,y_pred)) "
   ]
  },
  {
   "cell_type": "code",
   "execution_count": 53,
   "metadata": {},
   "outputs": [
    {
     "name": "stdout",
     "output_type": "stream",
     "text": [
      "Accuracy of SVM is: 0.9728018419916534\n"
     ]
    }
   ],
   "source": [
    "from sklearn.metrics import accuracy_score\n",
    "svm_accuracy=accuracy_score(ytr, y_pred)\n",
    "print(\"Accuracy of SVM is:\",svm_accuracy)"
   ]
  },
  {
   "cell_type": "markdown",
   "metadata": {},
   "source": [
    "# Implementing KNN"
   ]
  },
  {
   "cell_type": "code",
   "execution_count": 58,
   "metadata": {},
   "outputs": [],
   "source": [
    "#Create an array to store results of varios neighbors in KNN.\n",
    "results = []\n",
    "from sklearn.neighbors import KNeighborsClassifier\n",
    "\n",
    "for n in range(1, 51, 2):\n",
    "    \n",
    "    knn = KNeighborsClassifier(weights='distance', n_neighbors=n)\n",
    "    #Train the model on the training data set.\n",
    "    knn.fit(Xtr, ytr)\n",
    "    #Predict class labels using our trained model to evaluate the perfomance.\n",
    "    p = knn.predict(Xv)\n",
    "    accuracy = metrics.accuracy_score(yv,p)\n",
    "    results.append([n, accuracy])"
   ]
  },
  {
   "cell_type": "code",
   "execution_count": 59,
   "metadata": {},
   "outputs": [],
   "source": [
    "#Store the results into a dataframe\n",
    "results = pd.DataFrame(results, columns=[\"n\",\"accuracy\"])\n",
    "knn_accuracy = max(results.accuracy)"
   ]
  },
  {
   "cell_type": "code",
   "execution_count": 60,
   "metadata": {},
   "outputs": [
    {
     "data": {
      "image/png": "[encoded data removed]",
      "text/plain": [
       "<Figure size 432x288 with 1 Axes>"
      ]
     },
     "metadata": {
      "needs_background": "light"
     },
     "output_type": "display_data"
    }
   ],
   "source": [
    "pl.plot(results.n,results.accuracy)\n",
    "pl.title(\"Accuracy with Increasing K\")\n",
    "pl.show()"
   ]
  },
  {
   "cell_type": "markdown",
   "metadata": {},
   "source": [
    "we can see from the plot that is the number of neighbors increase the accuracy increases initially. \n",
    "However, after a certain number of neighbors is reached the accuracy starts dropping. \n",
    "This is due to model overfitting."
   ]
  },
  {
   "cell_type": "code",
   "execution_count": 61,
   "metadata": {},
   "outputs": [
    {
     "name": "stdout",
     "output_type": "stream",
     "text": [
      "Ideal value of neighbors would be 39.0\n"
     ]
    }
   ],
   "source": [
    "#Training KNN model for ideal value of Neighbors 'n'.\n",
    "ideal_n = results.loc[results['accuracy'].idxmax()].n\n",
    "print('Ideal value of neighbors would be', ideal_n)\n",
    "ideal_n=int(ideal_n)\n",
    "knn = KNeighborsClassifier(weights='distance', n_neighbors=ideal_n)\n",
    "knn.fit(Xtr, ytr)\n",
    "ytest_pred_knn = knn.predict_proba(Xv)[:, 1]\n",
    "ytest_preds_threshold = [1 if pred > 0.10 else 0 for pred in ytest_pred_knn]\n",
    "knn_auc_roc = roc_auc_score(yv, ytest_preds_threshold)"
   ]
  },
  {
   "cell_type": "code",
   "execution_count": 62,
   "metadata": {},
   "outputs": [
    {
     "name": "stdout",
     "output_type": "stream",
     "text": [
      "Accuracy of KNN model 0.9348376698134929\n"
     ]
    }
   ],
   "source": [
    "print('Accuracy of KNN model', knn_accuracy)"
   ]
  },
  {
   "cell_type": "code",
   "execution_count": 63,
   "metadata": {},
   "outputs": [
    {
     "name": "stdout",
     "output_type": "stream",
     "text": [
      "Normalized confusion matrix\n",
      "[[0.77 0.23]\n",
      " [0.46 0.54]]\n"
     ]
    },
    {
     "data": {
      "image/png": "[encoded data removed]",
      "text/plain": [
       "<Figure size 432x288 with 2 Axes>"
      ]
     },
     "metadata": {
      "needs_background": "light"
     },
     "output_type": "display_data"
    }
   ],
   "source": [
    "#Define a function to calculate and plot confusion matrix\n",
    "def plot_confusion_matrix(cm, classes,\n",
    "                          normalize=False,\n",
    "                          title='Confusion matrix',\n",
    "                          cmap=plt.cm.Accent):\n",
    "    \"\"\"\n",
    "    This function prints and plots the confusion matrix.\n",
    "    Normalization can be applied by setting `normalize=True`.\n",
    "    \"\"\"\n",
    "    plt.imshow(cm, interpolation='nearest', cmap=cmap)\n",
    "    plt.title(title)\n",
    "    plt.colorbar()\n",
    "    tick_marks = np.arange(len(classes))\n",
    "    plt.xticks(tick_marks, classes, rotation=45)\n",
    "    plt.yticks(tick_marks, classes)\n",
    "\n",
    "    if normalize:\n",
    "        cm = cm.astype('float') / cm.sum(axis=1)[:, np.newaxis]\n",
    "        print(\"Normalized confusion matrix\")\n",
    "    else:\n",
    "        print('Confusion matrix, without normalization')\n",
    "\n",
    "    print(cm)\n",
    "\n",
    "    thresh = cm.max() / 2.\n",
    "    for i, j in itertools.product(range(cm.shape[0]), range(cm.shape[1])):\n",
    "        plt.text(j, i, cm[i, j],\n",
    "                 horizontalalignment=\"center\",\n",
    "                 color=\"white\" if cm[i, j] > thresh else \"black\")\n",
    "\n",
    "    plt.tight_layout()\n",
    "    plt.ylabel('True label')\n",
    "    plt.xlabel('Predicted label')\n",
    "\n",
    "# Compute confusion matrix\n",
    "cnf_matrix = confusion_matrix(yv, ytest_preds_threshold)\n",
    "np.set_printoptions(precision=2)\n",
    "\n",
    "# Plot non-normalized confusion matrix\n",
    "#plt.figure()\n",
    "#plot_confusion_matrix(cnf_matrix, classes=['Cancelled','Not Cancelled'],\n",
    "#                      title='Confusion matrix, without normalization')\n",
    "\n",
    "\n",
    "\n",
    "# Plot normalized confusion matrix\n",
    "plt.figure()\n",
    "plot_confusion_matrix(cnf_matrix, classes=['Cancelled','Not Cancelled'], normalize=True,\n",
    "                      title='Normalized confusion matrix')\n",
    "\n",
    "plt.show()"
   ]
  }
 ],
 "metadata": {
  "kernelspec": {
   "display_name": "Python 3",
   "language": "python",
   "name": "python3"
  },
  "language_info": {
   "codemirror_mode": {
    "name": "ipython",
    "version": 3
   },
   "file_extension": ".py",
   "mimetype": "text/x-python",
   "name": "python",
   "nbconvert_exporter": "python",
   "pygments_lexer": "ipython3",
   "version": "3.7.3"
  }
 },
 "nbformat": 4,
 "nbformat_minor": 2
}
